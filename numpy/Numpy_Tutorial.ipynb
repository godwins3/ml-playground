{
  "cells": [
    {
      "cell_type": "markdown",
      "metadata": {
        "id": "view-in-github",
        "colab_type": "text"
      },
      "source": [
        "<a href=\"https://colab.research.google.com/github/godwins3/ml-playground/blob/main/numpy/Numpy_Tutorial.ipynb\" target=\"_parent\"><img src=\"https://colab.research.google.com/assets/colab-badge.svg\" alt=\"Open In Colab\"/></a>"
      ]
    },
    {
      "cell_type": "code",
      "execution_count": null,
      "metadata": {
        "id": "Q0HMnXXIcfMd"
      },
      "outputs": [],
      "source": [
        "import numpy as np"
      ]
    },
    {
      "cell_type": "code",
      "execution_count": null,
      "metadata": {
        "colab": {
          "base_uri": "https://localhost:8080/"
        },
        "id": "Zp1-MSySdPaj",
        "outputId": "216e8183-59ff-4e29-901f-e3853a8bc3c8"
      },
      "outputs": [
        {
          "name": "stdout",
          "output_type": "stream",
          "text": [
            "[1 2 3 4 5]\n"
          ]
        }
      ],
      "source": [
        "arr = np.array([1, 2, 3, 4, 5])\n",
        "print(arr)"
      ]
    },
    {
      "cell_type": "code",
      "execution_count": null,
      "metadata": {
        "colab": {
          "base_uri": "https://localhost:8080/"
        },
        "id": "0TsnSw6peQcA",
        "outputId": "437c658b-468a-44c0-a262-d2b1761d92d2"
      },
      "outputs": [
        {
          "name": "stdout",
          "output_type": "stream",
          "text": [
            "42\n"
          ]
        }
      ],
      "source": [
        "arr = np.array(42) #0 D Arrays\n",
        "print(arr)"
      ]
    },
    {
      "cell_type": "code",
      "execution_count": null,
      "metadata": {
        "colab": {
          "base_uri": "https://localhost:8080/"
        },
        "id": "1XEMX9EfeY9P",
        "outputId": "da5ca420-55e1-4548-b3af-0cfcaa7ffeac"
      },
      "outputs": [
        {
          "name": "stdout",
          "output_type": "stream",
          "text": [
            "[1 2 3 4 5]\n"
          ]
        }
      ],
      "source": [
        "arr = np.array([1, 2, 3, 4, 5]) # 1D Array\n",
        "\n",
        "print(arr)"
      ]
    },
    {
      "cell_type": "code",
      "execution_count": null,
      "metadata": {
        "colab": {
          "base_uri": "https://localhost:8080/"
        },
        "id": "pE_8hYTCegqS",
        "outputId": "a652765c-6fe8-4d91-a8f4-1909e537dc56"
      },
      "outputs": [
        {
          "name": "stdout",
          "output_type": "stream",
          "text": [
            "[[1 2 3]\n",
            " [4 5 6]]\n"
          ]
        }
      ],
      "source": [
        "arr = np.array([[1, 2, 3], [4, 5, 6]]) # 2D Array\n",
        "\n",
        "print(arr)"
      ]
    },
    {
      "cell_type": "code",
      "execution_count": null,
      "metadata": {
        "colab": {
          "base_uri": "https://localhost:8080/"
        },
        "id": "-uoShb_aem1T",
        "outputId": "a9a5dd6a-73e4-4576-d209-a9c7e16be65d"
      },
      "outputs": [
        {
          "name": "stdout",
          "output_type": "stream",
          "text": [
            "[[[1 2 3]\n",
            "  [4 5 6]]\n",
            "\n",
            " [[1 2 3]\n",
            "  [4 5 6]]]\n"
          ]
        }
      ],
      "source": [
        "arr = np.array([[[1, 2, 3], [4, 5, 6]], [[1, 2, 3], [4, 5, 6]]]) # 3D Array\n",
        "\n",
        "print(arr)"
      ]
    },
    {
      "cell_type": "code",
      "execution_count": null,
      "metadata": {
        "colab": {
          "base_uri": "https://localhost:8080/"
        },
        "id": "f0DNGzFuh5lf",
        "outputId": "6c37c518-5d15-402d-9bd2-3932420169e6"
      },
      "outputs": [
        {
          "name": "stdout",
          "output_type": "stream",
          "text": [
            "0\n",
            "1\n",
            "2\n",
            "3\n"
          ]
        }
      ],
      "source": [
        "a = np.array(42)\n",
        "b = np.array([1, 2, 3, 4, 5])\n",
        "c = np.array([[1, 2, 3], [4, 5, 6]])\n",
        "d = np.array([[[1, 2, 3], [4, 5, 6]], [[1, 2, 3], [4, 5, 6]]])\n",
        "\n",
        "print(a.ndim)\n",
        "print(b.ndim)\n",
        "print(c.ndim)\n",
        "print(d.ndim)"
      ]
    },
    {
      "cell_type": "code",
      "execution_count": null,
      "metadata": {
        "colab": {
          "base_uri": "https://localhost:8080/"
        },
        "id": "LMvwl6aWijoe",
        "outputId": "51a51350-023b-4290-c832-963b75471a63"
      },
      "outputs": [
        {
          "output_type": "stream",
          "name": "stdout",
          "text": [
            "[23 24 25]\n"
          ]
        }
      ],
      "source": [
        "arr = np.array([23, 24, 25, 26])\n",
        "print(arr[:3])"
      ]
    },
    {
      "cell_type": "code",
      "execution_count": null,
      "metadata": {
        "colab": {
          "base_uri": "https://localhost:8080/"
        },
        "id": "_3EzqC6giuzx",
        "outputId": "8f028ccd-f8f7-4ff4-d346-a7e20c26bd81"
      },
      "outputs": [
        {
          "name": "stdout",
          "output_type": "stream",
          "text": [
            "7\n"
          ]
        }
      ],
      "source": [
        "arr = np.array([1, 2, 3, 4])\n",
        "print(arr[2] + arr[3])"
      ]
    },
    {
      "cell_type": "code",
      "execution_count": null,
      "metadata": {
        "colab": {
          "base_uri": "https://localhost:8080/"
        },
        "id": "KByijilakchD",
        "outputId": "db7563ea-7498-422c-f6b4-85d4c172c659"
      },
      "outputs": [
        {
          "output_type": "stream",
          "name": "stdout",
          "text": [
            "2\n"
          ]
        }
      ],
      "source": [
        "arr = np.array([[1,2,3,4,5], [6,7,8,9,10]])\n",
        "print(arr[0, 1])"
      ]
    },
    {
      "cell_type": "code",
      "source": [
        "arr = np.array([[[1, 2, 3], [4, 5, 6]], [[7, 8, 9], [10, 11, 12]]])\n",
        "print(arr[0, 1, 2])"
      ],
      "metadata": {
        "colab": {
          "base_uri": "https://localhost:8080/"
        },
        "id": "XIvi9lo4oeWX",
        "outputId": "bc6d46e6-42e6-42a6-d920-ff5cd03ee3a9"
      },
      "execution_count": null,
      "outputs": [
        {
          "output_type": "stream",
          "name": "stdout",
          "text": [
            "6\n"
          ]
        }
      ]
    },
    {
      "cell_type": "code",
      "source": [
        "a = np.array([1, 2, 3, 4, 5, 6])\n",
        "a.shape"
      ],
      "metadata": {
        "colab": {
          "base_uri": "https://localhost:8080/"
        },
        "id": "ER-IkboCqQ7C",
        "outputId": "a4a539af-5775-4c9c-871d-bf68382e9c38"
      },
      "execution_count": null,
      "outputs": [
        {
          "output_type": "execute_result",
          "data": {
            "text/plain": [
              "(6,)"
            ]
          },
          "metadata": {},
          "execution_count": 5
        }
      ]
    },
    {
      "cell_type": "code",
      "source": [
        "a2 = a[np.newaxis, :]\n",
        "a2.shape"
      ],
      "metadata": {
        "colab": {
          "base_uri": "https://localhost:8080/"
        },
        "id": "vhivbC3WqZsQ",
        "outputId": "e5592993-2b6f-42a1-9283-0a17c7063faf"
      },
      "execution_count": null,
      "outputs": [
        {
          "output_type": "execute_result",
          "data": {
            "text/plain": [
              "(1, 6)"
            ]
          },
          "metadata": {},
          "execution_count": 6
        }
      ]
    },
    {
      "cell_type": "code",
      "source": [
        "a3 = a[:, np.newaxis]\n",
        "a3.shape"
      ],
      "metadata": {
        "colab": {
          "base_uri": "https://localhost:8080/"
        },
        "id": "PI73r9VgrEUc",
        "outputId": "05e0103a-7572-4601-c781-5dd8de3eaa64"
      },
      "execution_count": null,
      "outputs": [
        {
          "output_type": "execute_result",
          "data": {
            "text/plain": [
              "(6, 1)"
            ]
          },
          "metadata": {},
          "execution_count": 9
        }
      ]
    },
    {
      "cell_type": "code",
      "source": [
        "arr = np.array([2, 1, 5, 3, 7, 4, 6, 8])"
      ],
      "metadata": {
        "id": "bGyPdxjVuvEv"
      },
      "execution_count": null,
      "outputs": []
    },
    {
      "cell_type": "code",
      "source": [
        "array = np.array([3, 1, 4, 1, 5, 9, 2, 6, 5])\n",
        "sorted_array = sorted(array, reverse=True)\n",
        "print(sorted_array)"
      ],
      "metadata": {
        "colab": {
          "base_uri": "https://localhost:8080/"
        },
        "id": "gb1nsEMnuzVO",
        "outputId": "6aebf3f9-2f35-484e-ead8-af25002d614a"
      },
      "execution_count": null,
      "outputs": [
        {
          "output_type": "stream",
          "name": "stdout",
          "text": [
            "[9, 6, 5, 5, 4, 3, 2, 1, 1]\n"
          ]
        }
      ]
    },
    {
      "cell_type": "code",
      "source": [
        "a = np.array(([1, 2, 3, 4], [3, 5, 6, 7]))\n",
        "b = np.array(([5, 6, 7, 8], [2, 1, 4, 8]))"
      ],
      "metadata": {
        "id": "0j2e33qDwC2E"
      },
      "execution_count": null,
      "outputs": []
    },
    {
      "cell_type": "code",
      "source": [
        "np.concatenate((a, b), axis=0)"
      ],
      "metadata": {
        "colab": {
          "base_uri": "https://localhost:8080/"
        },
        "id": "nATfCPJ7wKFU",
        "outputId": "1c3777b0-388c-432b-d832-136a19c7d40a"
      },
      "execution_count": null,
      "outputs": [
        {
          "output_type": "execute_result",
          "data": {
            "text/plain": [
              "array([[1, 2, 3, 4],\n",
              "       [3, 5, 6, 7],\n",
              "       [5, 6, 7, 8],\n",
              "       [2, 1, 4, 8]])"
            ]
          },
          "metadata": {},
          "execution_count": 30
        }
      ]
    },
    {
      "cell_type": "code",
      "source": [
        "np.concatenate((a, b), axis=1)"
      ],
      "metadata": {
        "colab": {
          "base_uri": "https://localhost:8080/"
        },
        "id": "MeLk6kH9w7ZX",
        "outputId": "d7a44406-2321-4f81-b507-a22e349f5ecd"
      },
      "execution_count": null,
      "outputs": [
        {
          "output_type": "execute_result",
          "data": {
            "text/plain": [
              "array([[1, 2, 3, 4, 5, 6, 7, 8],\n",
              "       [3, 5, 6, 7, 2, 1, 4, 8]])"
            ]
          },
          "metadata": {},
          "execution_count": 33
        }
      ]
    },
    {
      "cell_type": "code",
      "source": [
        "a = np.array(([[1, 2, 3, 4], [3, 5, 6, 7]], [[5, 6, 7, 8], [2, 1, 4, 8]]))\n",
        "b = np.array(([[5, 6, 7, 8], [2, 1, 4, 8]], [[1, 2, 3, 4], [3, 5, 6, 7]]))"
      ],
      "metadata": {
        "id": "Uw2z3Z4Lxm-D"
      },
      "execution_count": null,
      "outputs": []
    },
    {
      "cell_type": "code",
      "source": [
        "np.concatenate((a, b), axis=0)"
      ],
      "metadata": {
        "colab": {
          "base_uri": "https://localhost:8080/"
        },
        "id": "g_pCQFejx27H",
        "outputId": "cae5a667-5718-4046-b4f8-4db99ab7bd71"
      },
      "execution_count": null,
      "outputs": [
        {
          "output_type": "execute_result",
          "data": {
            "text/plain": [
              "array([[[1, 2, 3, 4],\n",
              "        [3, 5, 6, 7]],\n",
              "\n",
              "       [[9, 0, 7, 8],\n",
              "        [8, 7, 4, 8]],\n",
              "\n",
              "       [[5, 6, 7, 8],\n",
              "        [2, 1, 4, 8]],\n",
              "\n",
              "       [[1, 2, 3, 4],\n",
              "        [3, 5, 6, 7]]])"
            ]
          },
          "metadata": {},
          "execution_count": 44
        }
      ]
    },
    {
      "cell_type": "code",
      "source": [
        "a = np.array(([[1, 2, 3, 4], [3, 5, 6, 7]], [[9, 0, 7, 8], [8, 7, 4, 8]]))\n",
        "b = np.array(([[5, 6, 7, 8], [2, 1, 4, 8]], [[1, 2, 3, 4], [3, 5, 6, 7]]))"
      ],
      "metadata": {
        "id": "AW72Pj_kyV0W"
      },
      "execution_count": null,
      "outputs": []
    },
    {
      "cell_type": "code",
      "source": [
        "np.concatenate((a, b), axis=-1)"
      ],
      "metadata": {
        "colab": {
          "base_uri": "https://localhost:8080/"
        },
        "id": "E-ZnqUtqyJVA",
        "outputId": "1958306f-0b68-495e-cb8c-88be085bfff8"
      },
      "execution_count": null,
      "outputs": [
        {
          "output_type": "execute_result",
          "data": {
            "text/plain": [
              "array([[[1, 2, 3, 4, 5, 6, 7, 8],\n",
              "        [3, 5, 6, 7, 2, 1, 4, 8]],\n",
              "\n",
              "       [[9, 0, 7, 8, 1, 2, 3, 4],\n",
              "        [8, 7, 4, 8, 3, 5, 6, 7]]])"
            ]
          },
          "metadata": {},
          "execution_count": 43
        }
      ]
    },
    {
      "cell_type": "code",
      "source": [
        "lt = np.random.default_rng(1)\n",
        "a = np.floor(10 * lt.random((2, 2)))\n",
        "print(a)"
      ],
      "metadata": {
        "colab": {
          "base_uri": "https://localhost:8080/"
        },
        "id": "B5Q6cGjL02l0",
        "outputId": "5ad43225-30fa-4144-b10d-861cef4f8ace"
      },
      "execution_count": null,
      "outputs": [
        {
          "output_type": "stream",
          "name": "stdout",
          "text": [
            "[[5. 9.]\n",
            " [1. 9.]]\n"
          ]
        }
      ]
    },
    {
      "cell_type": "code",
      "source": [
        "a = np.arange(6)\n",
        "print(a)"
      ],
      "metadata": {
        "colab": {
          "base_uri": "https://localhost:8080/"
        },
        "id": "HQcxSsLS2er0",
        "outputId": "73863595-fbc1-4fca-d12a-5d2a4fc9bae7"
      },
      "execution_count": null,
      "outputs": [
        {
          "output_type": "stream",
          "name": "stdout",
          "text": [
            "[0 1 2 3 4 5]\n"
          ]
        }
      ]
    },
    {
      "cell_type": "markdown",
      "source": [
        "Stacking arrays"
      ],
      "metadata": {
        "id": "S3UnvKBzn-Pp"
      }
    },
    {
      "cell_type": "code",
      "source": [
        "import numpy as np\n",
        "\n",
        "array1 = np.array([1, 2, 3])\n",
        "array2 = np.array([4, 5, 6])\n",
        "\n",
        "stacked_array = np.vstack((array1, array2)) #vertical stacking  #Concatenates arrays along the first axis (rows)....requires arrays with same no of columns\n",
        "print(stacked_array)"
      ],
      "metadata": {
        "colab": {
          "base_uri": "https://localhost:8080/"
        },
        "id": "TEjlY4hPoAPa",
        "outputId": "aa8486d5-ecb4-4071-9c59-256719d63e05"
      },
      "execution_count": null,
      "outputs": [
        {
          "output_type": "stream",
          "name": "stdout",
          "text": [
            "[[1 2 3]\n",
            " [4 5 6]]\n"
          ]
        }
      ]
    },
    {
      "cell_type": "code",
      "source": [
        "array1 = np.array([[1, 2], [3, 4]])\n",
        "array2 = np.array([[5, 6], [7, 8]])\n",
        "\n",
        "stacked_array = np.hstack((array1, array2)) #horizontal stacking   #Concatenates arrays along the second axis (columns)....requires arrays with same no of rows\n",
        "print(stacked_array)"
      ],
      "metadata": {
        "colab": {
          "base_uri": "https://localhost:8080/"
        },
        "id": "Kb1QLqCBp-79",
        "outputId": "73fa221c-105a-4788-bf39-c992f0a99700"
      },
      "execution_count": null,
      "outputs": [
        {
          "output_type": "stream",
          "name": "stdout",
          "text": [
            "[[1 2 5 6]\n",
            " [3 4 7 8]]\n"
          ]
        }
      ]
    },
    {
      "cell_type": "code",
      "source": [
        "array1 = np.array([[1, 2], [3, 4]])\n",
        "array2 = np.array([[5, 6], [7, 8]])\n",
        "\n",
        "stacked_array = np.dstack((array1, array2)) #depth wise stacking\n",
        "print(stacked_array)"
      ],
      "metadata": {
        "colab": {
          "base_uri": "https://localhost:8080/"
        },
        "id": "df06jRCSq76q",
        "outputId": "d2a7b8cb-1117-442c-ef00-91dc96efa7fe"
      },
      "execution_count": null,
      "outputs": [
        {
          "output_type": "stream",
          "name": "stdout",
          "text": [
            "[[[1 5]\n",
            "  [2 6]]\n",
            "\n",
            " [[3 7]\n",
            "  [4 8]]]\n"
          ]
        }
      ]
    },
    {
      "cell_type": "markdown",
      "source": [
        "Slicing"
      ],
      "metadata": {
        "id": "SjJLdRyLrhpp"
      }
    },
    {
      "cell_type": "code",
      "source": [
        "import numpy as np\n",
        "\n",
        "arr = np.array([0, 1, 2, 3, 4, 5])\n",
        "\n",
        "# Extract elements from index 1 to 4 (exclusive)\n",
        "sliced_arr = arr[1:-1]\n",
        "print(sliced_arr)"
      ],
      "metadata": {
        "colab": {
          "base_uri": "https://localhost:8080/"
        },
        "id": "do5Ck57br-sc",
        "outputId": "2e9d62f1-ff37-4820-c203-720aa5a5ce30"
      },
      "execution_count": null,
      "outputs": [
        {
          "output_type": "stream",
          "name": "stdout",
          "text": [
            "[1 2 3 4]\n"
          ]
        }
      ]
    },
    {
      "cell_type": "code",
      "source": [
        "arr = np.array([[1, 2, 3],\n",
        "                [4, 5, 6]])\n",
        "\n",
        "# Extract the first row\n",
        "sliced_arr = arr[1, -2:]\n",
        "print(sliced_arr)"
      ],
      "metadata": {
        "colab": {
          "base_uri": "https://localhost:8080/"
        },
        "id": "Dzo3-f58s2O2",
        "outputId": "4ab9aa84-c6e6-4b08-ba65-17c7439ca163"
      },
      "execution_count": null,
      "outputs": [
        {
          "output_type": "stream",
          "name": "stdout",
          "text": [
            "[5 6]\n"
          ]
        }
      ]
    },
    {
      "cell_type": "code",
      "source": [
        "arr = np.array([[[1, 2, 3],\n",
        "                 [4, 5, 6]],\n",
        "                [[7, 8, 9],\n",
        "                 [10, 11, 12]]])\n",
        "\n",
        "# Extract the first slice (2D array)\n",
        "sliced_arr = arr[0, 1, 0:2]\n",
        "print(sliced_arr)"
      ],
      "metadata": {
        "colab": {
          "base_uri": "https://localhost:8080/"
        },
        "id": "LTiCHMWJvOSJ",
        "outputId": "72461671-716f-400e-de24-a57d06b0f7aa"
      },
      "execution_count": null,
      "outputs": [
        {
          "output_type": "stream",
          "name": "stdout",
          "text": [
            "[4 5]\n"
          ]
        }
      ]
    },
    {
      "cell_type": "code",
      "source": [
        "#array[start:stop:step]\n",
        "#start: The index of the first element to include.\n",
        "#stop: The index of the first element to exclude.\n",
        "#step: The number of elements to skip between elements."
      ],
      "metadata": {
        "id": "Zr-tZu78w2Ul"
      },
      "execution_count": null,
      "outputs": []
    },
    {
      "cell_type": "code",
      "source": [
        "arr = np.array([7, 4, 1, 2, 3, 6, 5, 0, 7, 9, 10, 11])\n",
        "arr2 = arr[1:8:]\n",
        "print(arr2)"
      ],
      "metadata": {
        "colab": {
          "base_uri": "https://localhost:8080/"
        },
        "id": "5xOU6MPPxIH1",
        "outputId": "1984441b-d02b-49b7-9a6a-e84f923a35ff"
      },
      "execution_count": null,
      "outputs": [
        {
          "output_type": "stream",
          "name": "stdout",
          "text": [
            "[4 1 2 3 6 5 0]\n"
          ]
        }
      ]
    },
    {
      "cell_type": "code",
      "source": [
        "array = np.array([1, 2, 3])\n",
        "scalar = 2\n",
        "\n",
        "result = array + scalar\n",
        "print(result)"
      ],
      "metadata": {
        "colab": {
          "base_uri": "https://localhost:8080/"
        },
        "id": "-2NKVcOV110_",
        "outputId": "3f8c3e1c-6af1-451b-97f6-d14727057490"
      },
      "execution_count": null,
      "outputs": [
        {
          "output_type": "stream",
          "name": "stdout",
          "text": [
            "[3 4 5]\n"
          ]
        }
      ]
    },
    {
      "cell_type": "code",
      "source": [
        "array1 = np.array([[1, 2, 3],\n",
        "                   [4, 5, 6]])\n",
        "array2 = np.array([7, 8, 9])\n",
        "\n",
        "result = array1 + array2\n",
        "print(result)"
      ],
      "metadata": {
        "colab": {
          "base_uri": "https://localhost:8080/"
        },
        "id": "EQqq7XSQ2JNY",
        "outputId": "a7ec336a-3ed4-426d-e51a-887ed831ba45"
      },
      "execution_count": null,
      "outputs": [
        {
          "output_type": "stream",
          "name": "stdout",
          "text": [
            "[[ 8 10 12]\n",
            " [11 13 15]]\n"
          ]
        }
      ]
    },
    {
      "cell_type": "code",
      "source": [],
      "metadata": {
        "id": "lkTrqWZU2cRs"
      },
      "execution_count": null,
      "outputs": []
    },
    {
      "cell_type": "code",
      "source": [
        "matrix = np.array([[1, 2, 3],\n",
        "                   [4, 5, 6]])\n",
        "vector = np.array([[7],\n",
        "                   [8],\n",
        "                   [9]])\n",
        "\n",
        "\n",
        "result = np.dot(matrix, vector)\n",
        "print(result)"
      ],
      "metadata": {
        "colab": {
          "base_uri": "https://localhost:8080/"
        },
        "id": "MQvl644o2fvX",
        "outputId": "23397215-354e-4504-c583-9ed3e8e9df8c"
      },
      "execution_count": null,
      "outputs": [
        {
          "output_type": "stream",
          "name": "stdout",
          "text": [
            "[[ 50]\n",
            " [122]]\n"
          ]
        }
      ]
    },
    {
      "cell_type": "code",
      "source": [
        "x = np.array([0, np.pi/2, np.pi])\n",
        "print(np.sin(x))\n",
        "\n",
        "# Exponential and logarithmic functions\n",
        "x = np.array([1, 100, 1000])\n",
        "print(np.exp(x))\n",
        "print(np.log10(x))\n",
        "\n",
        "# Statistical functions\n",
        "x = np.array([1, 2, 3, 4, 5])\n",
        "print(np.mean(x))\n",
        "print(np.std(x))\n",
        "\n",
        "# Linear algebra functions\n",
        "A = np.array([[1, 2], [3, 4]])\n",
        "B = np.array([[5, 6], [7, 8]])\n",
        "print(np.dot(A, B))\n",
        "print(np.linalg.inv(A))"
      ],
      "metadata": {
        "id": "HeZOfqUO4Ceh"
      },
      "execution_count": null,
      "outputs": []
    }
  ],
  "metadata": {
    "colab": {
      "provenance": [],
      "include_colab_link": true
    },
    "kernelspec": {
      "display_name": "Python 3",
      "name": "python3"
    },
    "language_info": {
      "name": "python"
    }
  },
  "nbformat": 4,
  "nbformat_minor": 0
}