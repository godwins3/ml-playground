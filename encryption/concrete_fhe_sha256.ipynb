{
  "nbformat": 4,
  "nbformat_minor": 0,
  "metadata": {
    "colab": {
      "provenance": [],
      "authorship_tag": "ABX9TyOqc7Iut0Xa/Ex4c9E2J45g",
      "include_colab_link": true
    },
    "kernelspec": {
      "name": "python3",
      "display_name": "Python 3"
    },
    "language_info": {
      "name": "python"
    }
  },
  "cells": [
    {
      "cell_type": "markdown",
      "metadata": {
        "id": "view-in-github",
        "colab_type": "text"
      },
      "source": [
        "<a href=\"https://colab.research.google.com/github/godwins3/ml-playground/blob/main/encryption/concrete_fhe_sha256.ipynb\" target=\"_parent\"><img src=\"https://colab.research.google.com/assets/colab-badge.svg\" alt=\"Open In Colab\"/></a>"
      ]
    },
    {
      "cell_type": "code",
      "source": [
        "!pip install concrete-python"
      ],
      "metadata": {
        "colab": {
          "base_uri": "https://localhost:8080/"
        },
        "id": "RaQCN4Z3_Vpz",
        "outputId": "97e33533-3718-4330-be4f-08a86b25076b"
      },
      "execution_count": null,
      "outputs": [
        {
          "output_type": "stream",
          "name": "stdout",
          "text": [
            "Collecting concrete-python\n",
            "  Downloading concrete_python-2.8.0-cp310-cp310-manylinux_2_28_x86_64.whl.metadata (12 kB)\n",
            "Requirement already satisfied: importlib-resources>=6.1 in /usr/local/lib/python3.10/dist-packages (from concrete-python) (6.4.5)\n",
            "Requirement already satisfied: jsonpickle>=3.0.3 in /usr/local/lib/python3.10/dist-packages (from concrete-python) (3.3.0)\n",
            "Requirement already satisfied: networkx>=2.6 in /usr/local/lib/python3.10/dist-packages (from concrete-python) (3.3)\n",
            "Requirement already satisfied: numpy<2.0,>=1.23 in /usr/local/lib/python3.10/dist-packages (from concrete-python) (1.26.4)\n",
            "Requirement already satisfied: scipy>=1.10 in /usr/local/lib/python3.10/dist-packages (from concrete-python) (1.13.1)\n",
            "Requirement already satisfied: torch>=1.13 in /usr/local/lib/python3.10/dist-packages (from concrete-python) (2.4.1+cu121)\n",
            "Collecting z3-solver>=4.12 (from concrete-python)\n",
            "  Downloading z3_solver-4.13.2.0-py3-none-manylinux_2_17_x86_64.manylinux2014_x86_64.whl.metadata (602 bytes)\n",
            "Requirement already satisfied: filelock in /usr/local/lib/python3.10/dist-packages (from torch>=1.13->concrete-python) (3.16.1)\n",
            "Requirement already satisfied: typing-extensions>=4.8.0 in /usr/local/lib/python3.10/dist-packages (from torch>=1.13->concrete-python) (4.12.2)\n",
            "Requirement already satisfied: sympy in /usr/local/lib/python3.10/dist-packages (from torch>=1.13->concrete-python) (1.13.3)\n",
            "Requirement already satisfied: jinja2 in /usr/local/lib/python3.10/dist-packages (from torch>=1.13->concrete-python) (3.1.4)\n",
            "Requirement already satisfied: fsspec in /usr/local/lib/python3.10/dist-packages (from torch>=1.13->concrete-python) (2024.6.1)\n",
            "Requirement already satisfied: MarkupSafe>=2.0 in /usr/local/lib/python3.10/dist-packages (from jinja2->torch>=1.13->concrete-python) (2.1.5)\n",
            "Requirement already satisfied: mpmath<1.4,>=1.1.0 in /usr/local/lib/python3.10/dist-packages (from sympy->torch>=1.13->concrete-python) (1.3.0)\n",
            "Downloading concrete_python-2.8.0-cp310-cp310-manylinux_2_28_x86_64.whl (76.2 MB)\n",
            "\u001b[2K   \u001b[90m━━━━━━━━━━━━━━━━━━━━━━━━━━━━━━━━━━━━━━━━\u001b[0m \u001b[32m76.2/76.2 MB\u001b[0m \u001b[31m11.5 MB/s\u001b[0m eta \u001b[36m0:00:00\u001b[0m\n",
            "\u001b[?25hDownloading z3_solver-4.13.2.0-py3-none-manylinux_2_17_x86_64.manylinux2014_x86_64.whl (28.1 MB)\n",
            "\u001b[2K   \u001b[90m━━━━━━━━━━━━━━━━━━━━━━━━━━━━━━━━━━━━━━━━\u001b[0m \u001b[32m28.1/28.1 MB\u001b[0m \u001b[31m39.3 MB/s\u001b[0m eta \u001b[36m0:00:00\u001b[0m\n",
            "\u001b[?25hInstalling collected packages: z3-solver, concrete-python\n",
            "Successfully installed concrete-python-2.8.0 z3-solver-4.13.2.0\n"
          ]
        }
      ]
    },
    {
      "cell_type": "code",
      "execution_count": null,
      "metadata": {
        "id": "FhzOa6EN_OY-"
      },
      "outputs": [],
      "source": [
        "# Uncomment this line to install dependency\n",
        "# ! pip install concrete-python\n",
        "\n",
        "# Required libraries\n",
        "from concrete import fhe\n",
        "import platform\n",
        "import numpy as np"
      ]
    },
    {
      "cell_type": "code",
      "source": [
        "# Bitwidth of each chunk and number of chunks in each 32-bit number.\n",
        "WIDTH, NUM_CHUNKS = 4, 8\n",
        "\n",
        "## Some other valid parameter sets\n",
        "# WIDTH, NUM_CHUNKS= 8, 4\n",
        "# WIDTH, NUM_CHUNKS= 2, 16\n",
        "\n",
        "assert WIDTH * NUM_CHUNKS == 32\n",
        "\n",
        "\n",
        "def break_down_data(data, data_size):\n",
        "    all_chunks = [\n",
        "        [(x >> i * WIDTH) % (2**WIDTH) for i in range(data_size // WIDTH)[::-1]] for x in data\n",
        "    ]\n",
        "    return all_chunks\n",
        "\n",
        "\n",
        "def reshape_data(data):\n",
        "    return np.array(data).reshape(-1, NUM_CHUNKS)\n",
        "\n",
        "\n",
        "def chunks_to_uint32(chunks):\n",
        "    return int(sum([2 ** ((NUM_CHUNKS - 1 - i) * WIDTH) * x for i, x in enumerate(chunks)]))\n",
        "\n",
        "\n",
        "def chunks_to_hexarray(chunks):\n",
        "    hexes = [hex(chunks_to_uint32(word))[2:] for word in chunks]\n",
        "    hexes = [\n",
        "        \"0\" * (8 - len(y)) + y for y in hexes\n",
        "    ]  # Appending leadning zero to the ones that are less than 8 characters TODO: write better\n",
        "    result = \"\".join(hexes)\n",
        "    return result"
      ],
      "metadata": {
        "id": "G5YykAdB_ife"
      },
      "execution_count": null,
      "outputs": []
    },
    {
      "cell_type": "code",
      "source": [
        "def right_rotate_list_of_chunks(list_to_rotate, amount):\n",
        "    return np.concatenate((list_to_rotate[-amount:], list_to_rotate[:-amount]))\n",
        "\n",
        "\n",
        "def right_shift_list_of_chunks(list_to_rotate, amount):\n",
        "    return np.concatenate(([0] * list_to_rotate[-amount:].shape[0], list_to_rotate[:-amount]))\n",
        "\n",
        "\n",
        "def left_shift_list_of_chunks(list_to_rotate, amount):\n",
        "    return np.concatenate((list_to_rotate[amount:], [0] * list_to_rotate[:amount].shape[0]))\n",
        "\n",
        "\n",
        "def rotate_less_than_width(chunks, shift):\n",
        "    raised_low_bits = fhe.univariate(lambda x: (x % 2**shift) << (WIDTH - shift))(chunks)\n",
        "    shifted_raised_low_bits = right_rotate_list_of_chunks(raised_low_bits, 1)\n",
        "\n",
        "    high_bits = chunks >> shift\n",
        "    return shifted_raised_low_bits + high_bits\n",
        "\n",
        "\n",
        "def right_rotate(chunks, rotate_amount):\n",
        "    x = rotate_amount // WIDTH\n",
        "    y = rotate_amount % WIDTH\n",
        "    rotated_chunks = right_rotate_list_of_chunks(chunks, x) if x != 0 else chunks\n",
        "    rotated = rotate_less_than_width(rotated_chunks, y) if y != 0 else rotated_chunks\n",
        "\n",
        "    return rotated\n",
        "\n",
        "\n",
        "def right_shift(chunks, shift_amount):\n",
        "    x = shift_amount // WIDTH\n",
        "    y = shift_amount % WIDTH\n",
        "    shifted_chunks = right_shift_list_of_chunks(chunks, x) if x != 0 else chunks\n",
        "\n",
        "    if y != 0:\n",
        "        # shift within chunks\n",
        "        raised_low_bits = fhe.univariate(lambda x: (x % 2**y) << (WIDTH - y))(shifted_chunks)\n",
        "        shifted_raised_low_bits = right_shift_list_of_chunks(raised_low_bits, 1)\n",
        "        high_bits = shifted_chunks >> y\n",
        "        result = shifted_raised_low_bits + high_bits\n",
        "    else:\n",
        "        result = shifted_chunks\n",
        "    return result"
      ],
      "metadata": {
        "id": "uFFOIdZKBPF6"
      },
      "execution_count": null,
      "outputs": []
    },
    {
      "cell_type": "code",
      "source": [
        "def add_two_32_bits(a, b):\n",
        "    added = np.sum([a, b], axis=0)\n",
        "\n",
        "    for i in range(NUM_CHUNKS):\n",
        "        results = added % (2**WIDTH)\n",
        "        if i < NUM_CHUNKS - 1:\n",
        "            carries = added >> WIDTH\n",
        "            added = left_shift_list_of_chunks(carries, 1) + results\n",
        "\n",
        "    return results"
      ],
      "metadata": {
        "id": "km8zl2WiBlym"
      },
      "execution_count": null,
      "outputs": []
    },
    {
      "cell_type": "code",
      "source": [
        "# Testing the addition function, adding four 32-bit numbers\n",
        "test_inputs = np.random.randint(0, 2**32, size=(2,))\n",
        "input_chunks = break_down_data(test_inputs, 32)\n",
        "\n",
        "assert chunks_to_uint32(add_two_32_bits(input_chunks[0], input_chunks[1])) == np.sum(\n",
        "    test_inputs\n",
        ") % (2**32)"
      ],
      "metadata": {
        "id": "B52sbf0PBpN0"
      },
      "execution_count": null,
      "outputs": []
    },
    {
      "cell_type": "code",
      "source": [
        "def add_four_32_bits(a, b, c, d):\n",
        "    added = np.sum([a, b, c, d], axis=0)\n",
        "\n",
        "    # First iteration of the loop is seperated\n",
        "    carries = added >> WIDTH\n",
        "    results = added % (2**WIDTH)\n",
        "    shifted_carries = left_shift_list_of_chunks(carries, 1)\n",
        "    added = shifted_carries + results\n",
        "\n",
        "    for i in range(1, NUM_CHUNKS):\n",
        "        results = added % (2**WIDTH)\n",
        "\n",
        "        # In the last iteration, carries need not be calculated\n",
        "        if i != NUM_CHUNKS - 1:\n",
        "            carries = added >> WIDTH\n",
        "            shifted_carries = left_shift_list_of_chunks(carries, 1)\n",
        "            added = shifted_carries + results\n",
        "\n",
        "    return results"
      ],
      "metadata": {
        "id": "bxxZZ666Bv1t"
      },
      "execution_count": null,
      "outputs": []
    },
    {
      "cell_type": "code",
      "source": [
        "# Testing the addition function, adding four 32-bit numbers\n",
        "\n",
        "for _ in range(1000):\n",
        "    test_inputs = np.random.randint(0, 2**32, size=(4,))\n",
        "    input_chunks = break_down_data(test_inputs, 32)\n",
        "\n",
        "    assert chunks_to_uint32(\n",
        "        add_four_32_bits(input_chunks[0], input_chunks[1], input_chunks[2], input_chunks[3])\n",
        "    ) == np.sum(test_inputs) % (2**32)"
      ],
      "metadata": {
        "id": "LFoUBvs1B1-Z"
      },
      "execution_count": null,
      "outputs": []
    },
    {
      "cell_type": "code",
      "source": [
        "# Used in the expansion\n",
        "\n",
        "\n",
        "def s0(w):\n",
        "    return right_rotate(w, 7) ^ right_rotate(w, 18) ^ right_shift(w, 3)\n",
        "\n",
        "\n",
        "def s1(w):\n",
        "    return right_rotate(w, 17) ^ right_rotate(w, 19) ^ right_shift(w, 10)\n",
        "\n",
        "\n",
        "# Used in main loop\n",
        "\n",
        "\n",
        "def S0(a_word):  # noqa: N802\n",
        "    return right_rotate(a_word, 2) ^ right_rotate(a_word, 13) ^ right_rotate(a_word, 22)\n",
        "\n",
        "\n",
        "def S1(e_word):  # noqa: N802\n",
        "    return right_rotate(e_word, 6) ^ right_rotate(e_word, 11) ^ right_rotate(e_word, 25)\n",
        "\n",
        "\n",
        "def Ch(e_word, f_word, g_word):  # noqa: N802\n",
        "    return (e_word & f_word) ^ ((2**WIDTH - 1 - e_word) & g_word)\n",
        "\n",
        "\n",
        "def Maj(a_word, b_word, c_word):  # noqa: N802\n",
        "    return (a_word & b_word) ^ (a_word & c_word) ^ (b_word & c_word)\n",
        "\n",
        "\n",
        "def main_loop(args, w_i_plus_k_i):\n",
        "    a, b, c, d, e, f, g, h = args\n",
        "    temp1 = add_four_32_bits(h, S1(e), Ch(e, f, g), w_i_plus_k_i)\n",
        "    temp2 = add_two_32_bits(S0(a), Maj(a, b, c))\n",
        "    new_a = add_two_32_bits(temp1, temp2)\n",
        "    new_e = add_two_32_bits(d, temp1)\n",
        "    return np.array([new_a, a, b, c, new_e, e, f, g])"
      ],
      "metadata": {
        "id": "8EeFBpAZB72H"
      },
      "execution_count": null,
      "outputs": []
    },
    {
      "cell_type": "code",
      "source": [
        "K = [\n",
        "    0x428A2F98,\n",
        "    0x71374491,\n",
        "    0xB5C0FBCF,\n",
        "    0xE9B5DBA5,\n",
        "    0x3956C25B,\n",
        "    0x59F111F1,\n",
        "    0x923F82A4,\n",
        "    0xAB1C5ED5,\n",
        "    0xD807AA98,\n",
        "    0x12835B01,\n",
        "    0x243185BE,\n",
        "    0x550C7DC3,\n",
        "    0x72BE5D74,\n",
        "    0x80DEB1FE,\n",
        "    0x9BDC06A7,\n",
        "    0xC19BF174,\n",
        "    0xE49B69C1,\n",
        "    0xEFBE4786,\n",
        "    0x0FC19DC6,\n",
        "    0x240CA1CC,\n",
        "    0x2DE92C6F,\n",
        "    0x4A7484AA,\n",
        "    0x5CB0A9DC,\n",
        "    0x76F988DA,\n",
        "    0x983E5152,\n",
        "    0xA831C66D,\n",
        "    0xB00327C8,\n",
        "    0xBF597FC7,\n",
        "    0xC6E00BF3,\n",
        "    0xD5A79147,\n",
        "    0x06CA6351,\n",
        "    0x14292967,\n",
        "    0x27B70A85,\n",
        "    0x2E1B2138,\n",
        "    0x4D2C6DFC,\n",
        "    0x53380D13,\n",
        "    0x650A7354,\n",
        "    0x766A0ABB,\n",
        "    0x81C2C92E,\n",
        "    0x92722C85,\n",
        "    0xA2BFE8A1,\n",
        "    0xA81A664B,\n",
        "    0xC24B8B70,\n",
        "    0xC76C51A3,\n",
        "    0xD192E819,\n",
        "    0xD6990624,\n",
        "    0xF40E3585,\n",
        "    0x106AA070,\n",
        "    0x19A4C116,\n",
        "    0x1E376C08,\n",
        "    0x2748774C,\n",
        "    0x34B0BCB5,\n",
        "    0x391C0CB3,\n",
        "    0x4ED8AA4A,\n",
        "    0x5B9CCA4F,\n",
        "    0x682E6FF3,\n",
        "    0x748F82EE,\n",
        "    0x78A5636F,\n",
        "    0x84C87814,\n",
        "    0x8CC70208,\n",
        "    0x90BEFFFA,\n",
        "    0xA4506CEB,\n",
        "    0xBEF9A3F7,\n",
        "    0xC67178F2,\n",
        "]\n",
        "H = [0x6A09E667, 0xBB67AE85, 0x3C6EF372, 0xA54FF53A, 0x510E527F, 0x9B05688C, 0x1F83D9AB, 0x5BE0CD19]"
      ],
      "metadata": {
        "id": "hO0P6npdCCVL"
      },
      "execution_count": null,
      "outputs": []
    },
    {
      "cell_type": "code",
      "source": [
        "k_in = reshape_data(break_down_data(K, 32))\n",
        "h_in = reshape_data(break_down_data(H, 32))"
      ],
      "metadata": {
        "id": "7Btvjn57CGsE"
      },
      "execution_count": null,
      "outputs": []
    },
    {
      "cell_type": "code",
      "source": [
        "def uint64_to_bin(uint64: int):\n",
        "    return \"\".join([str(uint64 >> i & 1) for i in range(63, -1, -1)])\n",
        "\n",
        "\n",
        "def sha256_preprocess(text):\n",
        "    \"\"\"\n",
        "    Takes a message of arbitrary length and returns a message\n",
        "    of length that is a multiple of 512 bits, with the original message padded\n",
        "    with a 1 bit, followed by 0 bits, followed by the original message length\n",
        "    in bits\n",
        "    \"\"\"\n",
        "    data = text\n",
        "    # convert to uint4 and group into 32 bit words (8 uint4s)\n",
        "    # #log (\"data is:\", data, data.shape)\n",
        "    message_len = data.shape[0] * 8  # denoted as 'l' in spec\n",
        "    # find padding length 'k'\n",
        "    k = (((448 - 1 - message_len) % 512) + 512) % 512\n",
        "    # #log (\"k is:\", k)\n",
        "    zero_pad_width_in_bits = k\n",
        "    padstring = \"1\" + \"0\" * zero_pad_width_in_bits + str(uint64_to_bin(message_len))\n",
        "    # log (\"padstring size:\", len(padstring))\n",
        "    # log (\"padstring is:\", padstring)\n",
        "\n",
        "    total_size = len(padstring) + message_len\n",
        "    # log (\"total size:\", total_size)\n",
        "    assert total_size % 512 == 0\n",
        "\n",
        "    pad = np.array(\n",
        "        [int(padstring[i : i + 8], 2) for i in range(0, len(padstring), 8)], dtype=np.uint8\n",
        "    )\n",
        "    padded = np.concatenate((data, pad))\n",
        "    words = break_down_data(padded, 8)\n",
        "    chunks = reshape_data(words)\n",
        "    return chunks"
      ],
      "metadata": {
        "id": "VkVY3sT9CK28"
      },
      "execution_count": null,
      "outputs": []
    },
    {
      "cell_type": "code",
      "source": [
        "# Number of rounds must be 64 to have correct SHA256\n",
        "# If looking to get a faster run, reduce the number of rounds (but it will not be correct)\n",
        "\n",
        "\n",
        "def sha256(data, number_of_rounds=64):\n",
        "    h_chunks = fhe.zeros((len(h_in), NUM_CHUNKS))\n",
        "    k_chunks = fhe.zeros((len(k_in), NUM_CHUNKS))\n",
        "    h_chunks += h_in\n",
        "    k_chunks += k_in\n",
        "\n",
        "    num_of_iters = data.shape[0] * 32 // 512\n",
        "    for chunk_iter in range(0, num_of_iters):\n",
        "\n",
        "        # Initializing the variables\n",
        "        chunk = data[chunk_iter * 16 : (chunk_iter + 1) * 16]\n",
        "        w = [None for _ in range(number_of_rounds)]\n",
        "        # Starting the main loop and expansion\n",
        "        working_vars = h_chunks\n",
        "        for j in range(0, number_of_rounds):\n",
        "            if j < 16:\n",
        "                w[j] = chunk[j]\n",
        "            else:\n",
        "                w[j] = add_four_32_bits(w[j - 16], s0(w[j - 15]), w[j - 7], s1(w[j - 2]))\n",
        "            w_i_k_i = add_two_32_bits(w[j], k_chunks[j])\n",
        "            working_vars = main_loop(working_vars, w_i_k_i)\n",
        "\n",
        "        # Accumulating the results\n",
        "        for j in range(8):\n",
        "            h_chunks[j] = fhe.array(add_two_32_bits(h_chunks[j], working_vars[j]))\n",
        "    return h_chunks"
      ],
      "metadata": {
        "id": "Sz2p5M7sCP_b"
      },
      "execution_count": null,
      "outputs": []
    },
    {
      "cell_type": "code",
      "source": [
        "def chunks_to_uint32(chunks):\n",
        "    # Decrypt the result before converting to integer\n",
        "    decrypted_chunks = fhe.decrypt(chunks)\n",
        "    return int(sum([2 ** ((NUM_CHUNKS - 1 - i) * WIDTH) * x for i, x in enumerate(decrypted_chunks)]))\n",
        "\n"
      ],
      "metadata": {
        "id": "C3MRcAOSC9Ct"
      },
      "execution_count": null,
      "outputs": []
    },
    {
      "cell_type": "code",
      "source": [
        "import hashlib\n",
        "\n",
        "text = (\n",
        "    b\"Lorem ipsum dolor sit amet, consectetur adipiscing elit. \"\n",
        "    b\"Curabitur bibendum, urna eu bibendum egestas, neque augue eleifend odio, \"\n",
        "    b\"et sagittis viverra. and more than 150\"\n",
        ")\n",
        "\n",
        "result = sha256(sha256_preprocess(np.frombuffer(text, dtype=np.uint8)))\n",
        "\n",
        "m = hashlib.sha256()\n",
        "m.update(text)\n",
        "\n",
        "print(\"    SHA256:\", m.hexdigest())\n",
        "# print(\"Our SHA256:\", chunks_to_hexarray(result))\n",
        "print(\"Match:\", chunks_to_hexarray(result) == m.hexdigest())"
      ],
      "metadata": {
        "colab": {
          "base_uri": "https://localhost:8080/",
          "height": 373
        },
        "id": "0-JWyjUxCU_8",
        "outputId": "b94c317b-c866-473c-866d-35eab49da636"
      },
      "execution_count": null,
      "outputs": [
        {
          "output_type": "stream",
          "name": "stdout",
          "text": [
            "    SHA256: a412c46b0be134c593b0ad520d4a4c4e1d8aecca799be0be2c4d233ccf455cb7\n"
          ]
        },
        {
          "output_type": "error",
          "ename": "AttributeError",
          "evalue": "module 'concrete.fhe' has no attribute 'decrypt'",
          "traceback": [
            "\u001b[0;31m---------------------------------------------------------------------------\u001b[0m",
            "\u001b[0;31mAttributeError\u001b[0m                            Traceback (most recent call last)",
            "\u001b[0;32m<ipython-input-25-a3c146c1e40b>\u001b[0m in \u001b[0;36m<cell line: 15>\u001b[0;34m()\u001b[0m\n\u001b[1;32m     13\u001b[0m \u001b[0;34m\u001b[0m\u001b[0m\n\u001b[1;32m     14\u001b[0m \u001b[0mprint\u001b[0m\u001b[0;34m(\u001b[0m\u001b[0;34m\"    SHA256:\"\u001b[0m\u001b[0;34m,\u001b[0m \u001b[0mm\u001b[0m\u001b[0;34m.\u001b[0m\u001b[0mhexdigest\u001b[0m\u001b[0;34m(\u001b[0m\u001b[0;34m)\u001b[0m\u001b[0;34m)\u001b[0m\u001b[0;34m\u001b[0m\u001b[0;34m\u001b[0m\u001b[0m\n\u001b[0;32m---> 15\u001b[0;31m \u001b[0mprint\u001b[0m\u001b[0;34m(\u001b[0m\u001b[0;34m\"Our SHA256:\"\u001b[0m\u001b[0;34m,\u001b[0m \u001b[0mchunks_to_hexarray\u001b[0m\u001b[0;34m(\u001b[0m\u001b[0mresult\u001b[0m\u001b[0;34m)\u001b[0m\u001b[0;34m)\u001b[0m\u001b[0;34m\u001b[0m\u001b[0;34m\u001b[0m\u001b[0m\n\u001b[0m\u001b[1;32m     16\u001b[0m \u001b[0mprint\u001b[0m\u001b[0;34m(\u001b[0m\u001b[0;34m\"Match:\"\u001b[0m\u001b[0;34m,\u001b[0m \u001b[0mchunks_to_hexarray\u001b[0m\u001b[0;34m(\u001b[0m\u001b[0mresult\u001b[0m\u001b[0;34m)\u001b[0m \u001b[0;34m==\u001b[0m \u001b[0mm\u001b[0m\u001b[0;34m.\u001b[0m\u001b[0mhexdigest\u001b[0m\u001b[0;34m(\u001b[0m\u001b[0;34m)\u001b[0m\u001b[0;34m)\u001b[0m\u001b[0;34m\u001b[0m\u001b[0;34m\u001b[0m\u001b[0m\n",
            "\u001b[0;32m<ipython-input-12-216ab000fb72>\u001b[0m in \u001b[0;36mchunks_to_hexarray\u001b[0;34m(chunks)\u001b[0m\n\u001b[1;32m     25\u001b[0m \u001b[0;34m\u001b[0m\u001b[0m\n\u001b[1;32m     26\u001b[0m \u001b[0;32mdef\u001b[0m \u001b[0mchunks_to_hexarray\u001b[0m\u001b[0;34m(\u001b[0m\u001b[0mchunks\u001b[0m\u001b[0;34m)\u001b[0m\u001b[0;34m:\u001b[0m\u001b[0;34m\u001b[0m\u001b[0;34m\u001b[0m\u001b[0m\n\u001b[0;32m---> 27\u001b[0;31m     \u001b[0mhexes\u001b[0m \u001b[0;34m=\u001b[0m \u001b[0;34m[\u001b[0m\u001b[0mhex\u001b[0m\u001b[0;34m(\u001b[0m\u001b[0mchunks_to_uint32\u001b[0m\u001b[0;34m(\u001b[0m\u001b[0mword\u001b[0m\u001b[0;34m)\u001b[0m\u001b[0;34m)\u001b[0m\u001b[0;34m[\u001b[0m\u001b[0;36m2\u001b[0m\u001b[0;34m:\u001b[0m\u001b[0;34m]\u001b[0m \u001b[0;32mfor\u001b[0m \u001b[0mword\u001b[0m \u001b[0;32min\u001b[0m \u001b[0mchunks\u001b[0m\u001b[0;34m]\u001b[0m\u001b[0;34m\u001b[0m\u001b[0;34m\u001b[0m\u001b[0m\n\u001b[0m\u001b[1;32m     28\u001b[0m     hexes = [\n\u001b[1;32m     29\u001b[0m         \u001b[0;34m\"0\"\u001b[0m \u001b[0;34m*\u001b[0m \u001b[0;34m(\u001b[0m\u001b[0;36m8\u001b[0m \u001b[0;34m-\u001b[0m \u001b[0mlen\u001b[0m\u001b[0;34m(\u001b[0m\u001b[0my\u001b[0m\u001b[0;34m)\u001b[0m\u001b[0;34m)\u001b[0m \u001b[0;34m+\u001b[0m \u001b[0my\u001b[0m \u001b[0;32mfor\u001b[0m \u001b[0my\u001b[0m \u001b[0;32min\u001b[0m \u001b[0mhexes\u001b[0m\u001b[0;34m\u001b[0m\u001b[0;34m\u001b[0m\u001b[0m\n",
            "\u001b[0;32m<ipython-input-12-216ab000fb72>\u001b[0m in \u001b[0;36m<listcomp>\u001b[0;34m(.0)\u001b[0m\n\u001b[1;32m     25\u001b[0m \u001b[0;34m\u001b[0m\u001b[0m\n\u001b[1;32m     26\u001b[0m \u001b[0;32mdef\u001b[0m \u001b[0mchunks_to_hexarray\u001b[0m\u001b[0;34m(\u001b[0m\u001b[0mchunks\u001b[0m\u001b[0;34m)\u001b[0m\u001b[0;34m:\u001b[0m\u001b[0;34m\u001b[0m\u001b[0;34m\u001b[0m\u001b[0m\n\u001b[0;32m---> 27\u001b[0;31m     \u001b[0mhexes\u001b[0m \u001b[0;34m=\u001b[0m \u001b[0;34m[\u001b[0m\u001b[0mhex\u001b[0m\u001b[0;34m(\u001b[0m\u001b[0mchunks_to_uint32\u001b[0m\u001b[0;34m(\u001b[0m\u001b[0mword\u001b[0m\u001b[0;34m)\u001b[0m\u001b[0;34m)\u001b[0m\u001b[0;34m[\u001b[0m\u001b[0;36m2\u001b[0m\u001b[0;34m:\u001b[0m\u001b[0;34m]\u001b[0m \u001b[0;32mfor\u001b[0m \u001b[0mword\u001b[0m \u001b[0;32min\u001b[0m \u001b[0mchunks\u001b[0m\u001b[0;34m]\u001b[0m\u001b[0;34m\u001b[0m\u001b[0;34m\u001b[0m\u001b[0m\n\u001b[0m\u001b[1;32m     28\u001b[0m     hexes = [\n\u001b[1;32m     29\u001b[0m         \u001b[0;34m\"0\"\u001b[0m \u001b[0;34m*\u001b[0m \u001b[0;34m(\u001b[0m\u001b[0;36m8\u001b[0m \u001b[0;34m-\u001b[0m \u001b[0mlen\u001b[0m\u001b[0;34m(\u001b[0m\u001b[0my\u001b[0m\u001b[0;34m)\u001b[0m\u001b[0;34m)\u001b[0m \u001b[0;34m+\u001b[0m \u001b[0my\u001b[0m \u001b[0;32mfor\u001b[0m \u001b[0my\u001b[0m \u001b[0;32min\u001b[0m \u001b[0mhexes\u001b[0m\u001b[0;34m\u001b[0m\u001b[0;34m\u001b[0m\u001b[0m\n",
            "\u001b[0;32m<ipython-input-24-a8f1295ecb18>\u001b[0m in \u001b[0;36mchunks_to_uint32\u001b[0;34m(chunks)\u001b[0m\n\u001b[1;32m      1\u001b[0m \u001b[0;32mdef\u001b[0m \u001b[0mchunks_to_uint32\u001b[0m\u001b[0;34m(\u001b[0m\u001b[0mchunks\u001b[0m\u001b[0;34m)\u001b[0m\u001b[0;34m:\u001b[0m\u001b[0;34m\u001b[0m\u001b[0;34m\u001b[0m\u001b[0m\n\u001b[1;32m      2\u001b[0m     \u001b[0;31m# Decrypt the result before converting to integer\u001b[0m\u001b[0;34m\u001b[0m\u001b[0;34m\u001b[0m\u001b[0m\n\u001b[0;32m----> 3\u001b[0;31m     \u001b[0mdecrypted_chunks\u001b[0m \u001b[0;34m=\u001b[0m \u001b[0mfhe\u001b[0m\u001b[0;34m.\u001b[0m\u001b[0mdecrypt\u001b[0m\u001b[0;34m(\u001b[0m\u001b[0mchunks\u001b[0m\u001b[0;34m)\u001b[0m\u001b[0;34m\u001b[0m\u001b[0;34m\u001b[0m\u001b[0m\n\u001b[0m\u001b[1;32m      4\u001b[0m     \u001b[0;32mreturn\u001b[0m \u001b[0mint\u001b[0m\u001b[0;34m(\u001b[0m\u001b[0msum\u001b[0m\u001b[0;34m(\u001b[0m\u001b[0;34m[\u001b[0m\u001b[0;36m2\u001b[0m \u001b[0;34m**\u001b[0m \u001b[0;34m(\u001b[0m\u001b[0;34m(\u001b[0m\u001b[0mNUM_CHUNKS\u001b[0m \u001b[0;34m-\u001b[0m \u001b[0;36m1\u001b[0m \u001b[0;34m-\u001b[0m \u001b[0mi\u001b[0m\u001b[0;34m)\u001b[0m \u001b[0;34m*\u001b[0m \u001b[0mWIDTH\u001b[0m\u001b[0;34m)\u001b[0m \u001b[0;34m*\u001b[0m \u001b[0mx\u001b[0m \u001b[0;32mfor\u001b[0m \u001b[0mi\u001b[0m\u001b[0;34m,\u001b[0m \u001b[0mx\u001b[0m \u001b[0;32min\u001b[0m \u001b[0menumerate\u001b[0m\u001b[0;34m(\u001b[0m\u001b[0mdecrypted_chunks\u001b[0m\u001b[0;34m)\u001b[0m\u001b[0;34m]\u001b[0m\u001b[0;34m)\u001b[0m\u001b[0;34m)\u001b[0m\u001b[0;34m\u001b[0m\u001b[0;34m\u001b[0m\u001b[0m\n\u001b[1;32m      5\u001b[0m \u001b[0;34m\u001b[0m\u001b[0m\n",
            "\u001b[0;31mAttributeError\u001b[0m: module 'concrete.fhe' has no attribute 'decrypt'"
          ]
        }
      ]
    },
    {
      "cell_type": "code",
      "source": [
        "print(\"Our SHA256:\", chunks_to_(result))"
      ],
      "metadata": {
        "id": "Pq7dEp9tEA_6"
      },
      "execution_count": null,
      "outputs": []
    },
    {
      "cell_type": "code",
      "source": [
        "class HomomorphicSHA:  # noqa: N802\n",
        "    circuit: fhe.Circuit\n",
        "\n",
        "    def __init__(self, input_size_in_bytes=150, number_of_rounds=64) -> None:\n",
        "        self.input_size_in_bytes = input_size_in_bytes\n",
        "        assert 0 <= number_of_rounds <= 64, \"Number of rounds must be betweem zero and 64\"\n",
        "        self.number_of_rounds = number_of_rounds\n",
        "        inputset = [\n",
        "            sha256_preprocess(np.random.randint(0, 2**8, size=(input_size_in_bytes,)))\n",
        "            for _ in range(100)\n",
        "        ]\n",
        "        # Compilation of the circuit should take a few minutes\n",
        "        compiler = fhe.Compiler(\n",
        "            lambda data: sha256(data, self.number_of_rounds), {\"data\": \"encrypted\"}\n",
        "        )\n",
        "        self.circuit = compiler.compile(\n",
        "            inputset=inputset,\n",
        "            configuration=fhe.Configuration(\n",
        "                enable_unsafe_features=True,\n",
        "                use_insecure_key_cache=True,\n",
        "                insecure_key_cache_location=\".keys\",\n",
        "                dataflow_parallelize=platform.system() != \"Darwin\",\n",
        "            ),\n",
        "            verbose=False,\n",
        "        )\n",
        "\n",
        "    def getSHA(self, data):  # noqa: N802\n",
        "        assert (\n",
        "            len(data) == self.input_size_in_bytes\n",
        "        ), f\"Input size is not correct, should be {self.input_size_in_bytes} bytes/characters\"\n",
        "        return self.circuit.encrypt_run_decrypt(sha256_preprocess(data))\n",
        "\n",
        "    def getPlainSHA(self, data):  # noqa: N802\n",
        "        return sha256(sha256_preprocess(data), self.number_of_rounds)"
      ],
      "metadata": {
        "id": "ibzmwgjAACAa"
      },
      "execution_count": null,
      "outputs": []
    },
    {
      "cell_type": "code",
      "source": [
        "# Warning: This will compile the circuit and will take a few minutes\n",
        "\n",
        "input_size_in_bytes = 150\n",
        "running_small_example = True\n",
        "\n",
        "if running_small_example:\n",
        "    number_of_rounds = 2\n",
        "    sha = HomomorphicSHA(input_size_in_bytes, number_of_rounds)\n",
        "else:\n",
        "    sha = HomomorphicSHA(input_size_in_bytes)"
      ],
      "metadata": {
        "colab": {
          "base_uri": "https://localhost:8080/",
          "height": 356
        },
        "id": "Cgw2fzDtAX2x",
        "outputId": "237e9b92-6768-4acd-9fc6-c4da341e6e68"
      },
      "execution_count": null,
      "outputs": [
        {
          "output_type": "error",
          "ename": "NameError",
          "evalue": "name 'h_in' is not defined",
          "traceback": [
            "\u001b[0;31m---------------------------------------------------------------------------\u001b[0m",
            "\u001b[0;31mNameError\u001b[0m                                 Traceback (most recent call last)",
            "\u001b[0;32m<ipython-input-11-4940224131a8>\u001b[0m in \u001b[0;36m<cell line: 6>\u001b[0;34m()\u001b[0m\n\u001b[1;32m      6\u001b[0m \u001b[0;32mif\u001b[0m \u001b[0mrunning_small_example\u001b[0m\u001b[0;34m:\u001b[0m\u001b[0;34m\u001b[0m\u001b[0;34m\u001b[0m\u001b[0m\n\u001b[1;32m      7\u001b[0m     \u001b[0mnumber_of_rounds\u001b[0m \u001b[0;34m=\u001b[0m \u001b[0;36m2\u001b[0m\u001b[0;34m\u001b[0m\u001b[0;34m\u001b[0m\u001b[0m\n\u001b[0;32m----> 8\u001b[0;31m     \u001b[0msha\u001b[0m \u001b[0;34m=\u001b[0m \u001b[0mHomomorphicSHA\u001b[0m\u001b[0;34m(\u001b[0m\u001b[0minput_size_in_bytes\u001b[0m\u001b[0;34m,\u001b[0m \u001b[0mnumber_of_rounds\u001b[0m\u001b[0;34m)\u001b[0m\u001b[0;34m\u001b[0m\u001b[0;34m\u001b[0m\u001b[0m\n\u001b[0m\u001b[1;32m      9\u001b[0m \u001b[0;32melse\u001b[0m\u001b[0;34m:\u001b[0m\u001b[0;34m\u001b[0m\u001b[0;34m\u001b[0m\u001b[0m\n\u001b[1;32m     10\u001b[0m     \u001b[0msha\u001b[0m \u001b[0;34m=\u001b[0m \u001b[0mHomomorphicSHA\u001b[0m\u001b[0;34m(\u001b[0m\u001b[0minput_size_in_bytes\u001b[0m\u001b[0;34m)\u001b[0m\u001b[0;34m\u001b[0m\u001b[0;34m\u001b[0m\u001b[0m\n",
            "\u001b[0;32m<ipython-input-4-8baba1ecad88>\u001b[0m in \u001b[0;36m__init__\u001b[0;34m(self, input_size_in_bytes, number_of_rounds)\u001b[0m\n\u001b[1;32m     14\u001b[0m             \u001b[0;32mlambda\u001b[0m \u001b[0mdata\u001b[0m\u001b[0;34m:\u001b[0m \u001b[0msha256\u001b[0m\u001b[0;34m(\u001b[0m\u001b[0mdata\u001b[0m\u001b[0;34m,\u001b[0m \u001b[0mself\u001b[0m\u001b[0;34m.\u001b[0m\u001b[0mnumber_of_rounds\u001b[0m\u001b[0;34m)\u001b[0m\u001b[0;34m,\u001b[0m \u001b[0;34m{\u001b[0m\u001b[0;34m\"data\"\u001b[0m\u001b[0;34m:\u001b[0m \u001b[0;34m\"encrypted\"\u001b[0m\u001b[0;34m}\u001b[0m\u001b[0;34m\u001b[0m\u001b[0;34m\u001b[0m\u001b[0m\n\u001b[1;32m     15\u001b[0m         )\n\u001b[0;32m---> 16\u001b[0;31m         self.circuit = compiler.compile(\n\u001b[0m\u001b[1;32m     17\u001b[0m             \u001b[0minputset\u001b[0m\u001b[0;34m=\u001b[0m\u001b[0minputset\u001b[0m\u001b[0;34m,\u001b[0m\u001b[0;34m\u001b[0m\u001b[0;34m\u001b[0m\u001b[0m\n\u001b[1;32m     18\u001b[0m             configuration=fhe.Configuration(\n",
            "\u001b[0;32m/usr/local/lib/python3.10/dist-packages/concrete/fhe/compilation/compiler.py\u001b[0m in \u001b[0;36mcompile\u001b[0;34m(self, inputset, configuration, artifacts, **kwargs)\u001b[0m\n\u001b[1;32m    201\u001b[0m         \u001b[0;32mif\u001b[0m \u001b[0mconf\u001b[0m\u001b[0;34m.\u001b[0m\u001b[0mcomposable\u001b[0m\u001b[0;34m:\u001b[0m\u001b[0;34m\u001b[0m\u001b[0;34m\u001b[0m\u001b[0m\n\u001b[1;32m    202\u001b[0m             \u001b[0mself\u001b[0m\u001b[0;34m.\u001b[0m\u001b[0m_module_compiler\u001b[0m\u001b[0;34m.\u001b[0m\u001b[0mcomposition\u001b[0m \u001b[0;34m=\u001b[0m \u001b[0mAllComposable\u001b[0m\u001b[0;34m(\u001b[0m\u001b[0;34m)\u001b[0m\u001b[0;34m\u001b[0m\u001b[0;34m\u001b[0m\u001b[0m\n\u001b[0;32m--> 203\u001b[0;31m         fhe_module = self._module_compiler.compile(\n\u001b[0m\u001b[1;32m    204\u001b[0m             \u001b[0;34m{\u001b[0m\u001b[0mself\u001b[0m\u001b[0;34m.\u001b[0m\u001b[0m_function_name\u001b[0m\u001b[0;34m:\u001b[0m \u001b[0minputset\u001b[0m\u001b[0;34m}\u001b[0m\u001b[0;34m,\u001b[0m \u001b[0mconfiguration\u001b[0m\u001b[0;34m=\u001b[0m\u001b[0mconf\u001b[0m\u001b[0;34m,\u001b[0m \u001b[0mmodule_artifacts\u001b[0m\u001b[0;34m=\u001b[0m\u001b[0mart\u001b[0m\u001b[0;34m\u001b[0m\u001b[0;34m\u001b[0m\u001b[0m\n\u001b[1;32m    205\u001b[0m         )\n",
            "\u001b[0;32m/usr/local/lib/python3.10/dist-packages/concrete/fhe/compilation/module_compiler.py\u001b[0m in \u001b[0;36mcompile\u001b[0;34m(self, inputsets, configuration, module_artifacts, **kwargs)\u001b[0m\n\u001b[1;32m    403\u001b[0m                 \u001b[0minputset\u001b[0m \u001b[0;34m=\u001b[0m \u001b[0minputsets\u001b[0m\u001b[0;34m[\u001b[0m\u001b[0mname\u001b[0m\u001b[0;34m]\u001b[0m \u001b[0;32mif\u001b[0m \u001b[0minputsets\u001b[0m \u001b[0;32mis\u001b[0m \u001b[0;32mnot\u001b[0m \u001b[0;32mNone\u001b[0m \u001b[0;32melse\u001b[0m \u001b[0;32mNone\u001b[0m\u001b[0;34m\u001b[0m\u001b[0;34m\u001b[0m\u001b[0m\n\u001b[1;32m    404\u001b[0m                 \u001b[0mfunction_artifacts\u001b[0m \u001b[0;34m=\u001b[0m \u001b[0mmodule_artifacts\u001b[0m\u001b[0;34m.\u001b[0m\u001b[0mfunctions\u001b[0m\u001b[0;34m[\u001b[0m\u001b[0mname\u001b[0m\u001b[0;34m]\u001b[0m\u001b[0;34m\u001b[0m\u001b[0;34m\u001b[0m\u001b[0m\n\u001b[0;32m--> 405\u001b[0;31m                 \u001b[0mfunction\u001b[0m\u001b[0;34m.\u001b[0m\u001b[0mevaluate\u001b[0m\u001b[0;34m(\u001b[0m\u001b[0;34m\"Compiling\"\u001b[0m\u001b[0;34m,\u001b[0m \u001b[0minputset\u001b[0m\u001b[0;34m,\u001b[0m \u001b[0mconfiguration\u001b[0m\u001b[0;34m,\u001b[0m \u001b[0mfunction_artifacts\u001b[0m\u001b[0;34m)\u001b[0m\u001b[0;34m\u001b[0m\u001b[0;34m\u001b[0m\u001b[0m\n\u001b[0m\u001b[1;32m    406\u001b[0m                 \u001b[0;32massert\u001b[0m \u001b[0mfunction\u001b[0m\u001b[0;34m.\u001b[0m\u001b[0mgraph\u001b[0m \u001b[0;32mis\u001b[0m \u001b[0;32mnot\u001b[0m \u001b[0;32mNone\u001b[0m\u001b[0;34m\u001b[0m\u001b[0;34m\u001b[0m\u001b[0m\n\u001b[1;32m    407\u001b[0m                 \u001b[0mdbg\u001b[0m\u001b[0;34m.\u001b[0m\u001b[0mdebug_computation_graph\u001b[0m\u001b[0;34m(\u001b[0m\u001b[0mname\u001b[0m\u001b[0;34m,\u001b[0m \u001b[0mfunction\u001b[0m\u001b[0;34m.\u001b[0m\u001b[0mgraph\u001b[0m\u001b[0;34m)\u001b[0m\u001b[0;34m\u001b[0m\u001b[0;34m\u001b[0m\u001b[0m\n",
            "\u001b[0;32m/usr/local/lib/python3.10/dist-packages/concrete/fhe/compilation/module_compiler.py\u001b[0m in \u001b[0;36mevaluate\u001b[0;34m(self, action, inputset, configuration, artifacts)\u001b[0m\n\u001b[1;32m    231\u001b[0m                 \u001b[0;32mraise\u001b[0m \u001b[0mRuntimeError\u001b[0m\u001b[0;34m(\u001b[0m\u001b[0mmessage\u001b[0m\u001b[0;34m)\u001b[0m \u001b[0;32mfrom\u001b[0m \u001b[0merror\u001b[0m\u001b[0;34m\u001b[0m\u001b[0;34m\u001b[0m\u001b[0m\n\u001b[1;32m    232\u001b[0m \u001b[0;34m\u001b[0m\u001b[0m\n\u001b[0;32m--> 233\u001b[0;31m             \u001b[0mself\u001b[0m\u001b[0;34m.\u001b[0m\u001b[0mtrace\u001b[0m\u001b[0;34m(\u001b[0m\u001b[0mfirst_sample\u001b[0m\u001b[0;34m,\u001b[0m \u001b[0martifacts\u001b[0m\u001b[0;34m)\u001b[0m\u001b[0;34m\u001b[0m\u001b[0;34m\u001b[0m\u001b[0m\n\u001b[0m\u001b[1;32m    234\u001b[0m             \u001b[0;32massert\u001b[0m \u001b[0mself\u001b[0m\u001b[0;34m.\u001b[0m\u001b[0mgraph\u001b[0m \u001b[0;32mis\u001b[0m \u001b[0;32mnot\u001b[0m \u001b[0;32mNone\u001b[0m\u001b[0;34m\u001b[0m\u001b[0;34m\u001b[0m\u001b[0m\n\u001b[1;32m    235\u001b[0m \u001b[0;34m\u001b[0m\u001b[0m\n",
            "\u001b[0;32m/usr/local/lib/python3.10/dist-packages/concrete/fhe/compilation/module_compiler.py\u001b[0m in \u001b[0;36mtrace\u001b[0;34m(self, sample, artifacts)\u001b[0m\n\u001b[1;32m    144\u001b[0m         }\n\u001b[1;32m    145\u001b[0m \u001b[0;34m\u001b[0m\u001b[0m\n\u001b[0;32m--> 146\u001b[0;31m         \u001b[0mself\u001b[0m\u001b[0;34m.\u001b[0m\u001b[0mgraph\u001b[0m \u001b[0;34m=\u001b[0m \u001b[0mTracer\u001b[0m\u001b[0;34m.\u001b[0m\u001b[0mtrace\u001b[0m\u001b[0;34m(\u001b[0m\u001b[0mself\u001b[0m\u001b[0;34m.\u001b[0m\u001b[0mfunction\u001b[0m\u001b[0;34m,\u001b[0m \u001b[0mparameters\u001b[0m\u001b[0;34m,\u001b[0m \u001b[0mlocation\u001b[0m\u001b[0;34m=\u001b[0m\u001b[0mself\u001b[0m\u001b[0;34m.\u001b[0m\u001b[0mlocation\u001b[0m\u001b[0;34m)\u001b[0m\u001b[0;34m\u001b[0m\u001b[0;34m\u001b[0m\u001b[0m\n\u001b[0m\u001b[1;32m    147\u001b[0m         \u001b[0;32mif\u001b[0m \u001b[0martifacts\u001b[0m \u001b[0;32mis\u001b[0m \u001b[0;32mnot\u001b[0m \u001b[0;32mNone\u001b[0m\u001b[0;34m:\u001b[0m\u001b[0;34m\u001b[0m\u001b[0;34m\u001b[0m\u001b[0m\n\u001b[1;32m    148\u001b[0m             \u001b[0martifacts\u001b[0m\u001b[0;34m.\u001b[0m\u001b[0madd_graph\u001b[0m\u001b[0;34m(\u001b[0m\u001b[0;34m\"initial\"\u001b[0m\u001b[0;34m,\u001b[0m \u001b[0mself\u001b[0m\u001b[0;34m.\u001b[0m\u001b[0mgraph\u001b[0m\u001b[0;34m)\u001b[0m\u001b[0;34m\u001b[0m\u001b[0;34m\u001b[0m\u001b[0m\n",
            "\u001b[0;32m/usr/local/lib/python3.10/dist-packages/concrete/fhe/tracing/tracer.py\u001b[0m in \u001b[0;36mtrace\u001b[0;34m(function, parameters, is_direct, location)\u001b[0m\n\u001b[1;32m     80\u001b[0m \u001b[0;34m\u001b[0m\u001b[0m\n\u001b[1;32m     81\u001b[0m         \u001b[0mTracer\u001b[0m\u001b[0;34m.\u001b[0m\u001b[0m_is_tracing\u001b[0m \u001b[0;34m=\u001b[0m \u001b[0;32mTrue\u001b[0m\u001b[0;34m\u001b[0m\u001b[0;34m\u001b[0m\u001b[0m\n\u001b[0;32m---> 82\u001b[0;31m         \u001b[0moutput_tracers\u001b[0m\u001b[0;34m:\u001b[0m \u001b[0mAny\u001b[0m \u001b[0;34m=\u001b[0m \u001b[0mfunction\u001b[0m\u001b[0;34m(\u001b[0m\u001b[0;34m**\u001b[0m\u001b[0marguments\u001b[0m\u001b[0;34m)\u001b[0m\u001b[0;34m\u001b[0m\u001b[0;34m\u001b[0m\u001b[0m\n\u001b[0m\u001b[1;32m     83\u001b[0m         \u001b[0mTracer\u001b[0m\u001b[0;34m.\u001b[0m\u001b[0m_is_tracing\u001b[0m \u001b[0;34m=\u001b[0m \u001b[0;32mFalse\u001b[0m\u001b[0;34m\u001b[0m\u001b[0;34m\u001b[0m\u001b[0m\n\u001b[1;32m     84\u001b[0m \u001b[0;34m\u001b[0m\u001b[0m\n",
            "\u001b[0;32m<ipython-input-4-8baba1ecad88>\u001b[0m in \u001b[0;36m<lambda>\u001b[0;34m(data)\u001b[0m\n\u001b[1;32m     12\u001b[0m         \u001b[0;31m# Compilation of the circuit should take a few minutes\u001b[0m\u001b[0;34m\u001b[0m\u001b[0;34m\u001b[0m\u001b[0m\n\u001b[1;32m     13\u001b[0m         compiler = fhe.Compiler(\n\u001b[0;32m---> 14\u001b[0;31m             \u001b[0;32mlambda\u001b[0m \u001b[0mdata\u001b[0m\u001b[0;34m:\u001b[0m \u001b[0msha256\u001b[0m\u001b[0;34m(\u001b[0m\u001b[0mdata\u001b[0m\u001b[0;34m,\u001b[0m \u001b[0mself\u001b[0m\u001b[0;34m.\u001b[0m\u001b[0mnumber_of_rounds\u001b[0m\u001b[0;34m)\u001b[0m\u001b[0;34m,\u001b[0m \u001b[0;34m{\u001b[0m\u001b[0;34m\"data\"\u001b[0m\u001b[0;34m:\u001b[0m \u001b[0;34m\"encrypted\"\u001b[0m\u001b[0;34m}\u001b[0m\u001b[0;34m\u001b[0m\u001b[0;34m\u001b[0m\u001b[0m\n\u001b[0m\u001b[1;32m     15\u001b[0m         )\n\u001b[1;32m     16\u001b[0m         self.circuit = compiler.compile(\n",
            "\u001b[0;32m<ipython-input-10-dd48d4ae9add>\u001b[0m in \u001b[0;36msha256\u001b[0;34m(data, number_of_rounds)\u001b[0m\n\u001b[1;32m      4\u001b[0m \u001b[0;34m\u001b[0m\u001b[0m\n\u001b[1;32m      5\u001b[0m \u001b[0;32mdef\u001b[0m \u001b[0msha256\u001b[0m\u001b[0;34m(\u001b[0m\u001b[0mdata\u001b[0m\u001b[0;34m,\u001b[0m \u001b[0mnumber_of_rounds\u001b[0m\u001b[0;34m=\u001b[0m\u001b[0;36m64\u001b[0m\u001b[0;34m)\u001b[0m\u001b[0;34m:\u001b[0m\u001b[0;34m\u001b[0m\u001b[0;34m\u001b[0m\u001b[0m\n\u001b[0;32m----> 6\u001b[0;31m     \u001b[0mh_chunks\u001b[0m \u001b[0;34m=\u001b[0m \u001b[0mfhe\u001b[0m\u001b[0;34m.\u001b[0m\u001b[0mzeros\u001b[0m\u001b[0;34m(\u001b[0m\u001b[0;34m(\u001b[0m\u001b[0mlen\u001b[0m\u001b[0;34m(\u001b[0m\u001b[0mh_in\u001b[0m\u001b[0;34m)\u001b[0m\u001b[0;34m,\u001b[0m \u001b[0mNUM_CHUNKS\u001b[0m\u001b[0;34m)\u001b[0m\u001b[0;34m)\u001b[0m\u001b[0;34m\u001b[0m\u001b[0;34m\u001b[0m\u001b[0m\n\u001b[0m\u001b[1;32m      7\u001b[0m     \u001b[0mk_chunks\u001b[0m \u001b[0;34m=\u001b[0m \u001b[0mfhe\u001b[0m\u001b[0;34m.\u001b[0m\u001b[0mzeros\u001b[0m\u001b[0;34m(\u001b[0m\u001b[0;34m(\u001b[0m\u001b[0mlen\u001b[0m\u001b[0;34m(\u001b[0m\u001b[0mk_in\u001b[0m\u001b[0;34m)\u001b[0m\u001b[0;34m,\u001b[0m \u001b[0mNUM_CHUNKS\u001b[0m\u001b[0;34m)\u001b[0m\u001b[0;34m)\u001b[0m\u001b[0;34m\u001b[0m\u001b[0;34m\u001b[0m\u001b[0m\n\u001b[1;32m      8\u001b[0m     \u001b[0mh_chunks\u001b[0m \u001b[0;34m+=\u001b[0m \u001b[0mh_in\u001b[0m\u001b[0;34m\u001b[0m\u001b[0;34m\u001b[0m\u001b[0m\n",
            "\u001b[0;31mNameError\u001b[0m: name 'h_in' is not defined"
          ]
        }
      ]
    },
    {
      "cell_type": "code",
      "source": [
        "# WARNING: This takes a LONG time\n",
        "accept_a_very_long_run = False\n",
        "if not accept_a_very_long_run:\n",
        "    print(\n",
        "        \"This cell is disabled. It can takes hours. If you want to run this \"\n",
        "        \"cell, set accept_a_very_long_run=True\"\n",
        "    )\n",
        "else:\n",
        "    text = (\n",
        "        b\"Lorem ipsum dolor sit amet, consectetur adipiscing elit. \"\n",
        "        b\"Curabitur bibendum, urna eu bibendum egestas, neque augue eleifend odio, \"\n",
        "        b\"et sagittis viverra.\"\n",
        "    )\n",
        "    input_bytes = np.frombuffer(text, dtype=np.uint8)\n",
        "    encrypted_evaluation = sha.getSHA(input_bytes)\n",
        "\n",
        "    print(\"Encrypted Evaluation: \", chunks_to_hexarray(encrypted_evaluation))\n",
        "    print(\"    Plain Evaluation: \", chunks_to_hexarray(sha.getPlainSHA(input_bytes)))"
      ],
      "metadata": {
        "id": "emUxIeF4AeZ5"
      },
      "execution_count": null,
      "outputs": []
    },
    {
      "cell_type": "code",
      "source": [],
      "metadata": {
        "id": "64PBad0UA9UJ"
      },
      "execution_count": null,
      "outputs": []
    }
  ]
}