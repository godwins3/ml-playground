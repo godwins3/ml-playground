{
  "nbformat": 4,
  "nbformat_minor": 0,
  "metadata": {
    "colab": {
      "provenance": [],
      "authorship_tag": "ABX9TyPdJ837cDcUGzYfgN8LUnDI",
      "include_colab_link": true
    },
    "kernelspec": {
      "name": "python3",
      "display_name": "Python 3"
    },
    "language_info": {
      "name": "python"
    }
  },
  "cells": [
    {
      "cell_type": "markdown",
      "metadata": {
        "id": "view-in-github",
        "colab_type": "text"
      },
      "source": [
        "<a href=\"https://colab.research.google.com/github/godwins3/ml-playground/blob/main/encryption/custom_fhe.ipynb\" target=\"_parent\"><img src=\"https://colab.research.google.com/assets/colab-badge.svg\" alt=\"Open In Colab\"/></a>"
      ]
    },
    {
      "cell_type": "code",
      "execution_count": null,
      "metadata": {
        "id": "Ps-ghsAjmw9V"
      },
      "outputs": [],
      "source": [
        "import numpy as np\n",
        "\n",
        "def generate_keys(n, q):\n",
        "    s = np.random.randint(0, q, n)\n",
        "    A = np.random.randint(0, q, (n, n))\n",
        "    e = np.random.randint(-1, 2, n)  # Small error\n",
        "    b = (np.dot(A, s) + e) % q\n",
        "    return (A, b), s  # Public key (A, b), private key s\n"
      ]
    },
    {
      "cell_type": "code",
      "source": [
        "def encrypt(m, public_key, q):\n",
        "    A, b = public_key\n",
        "    n = A.shape[0]\n",
        "    r = np.random.randint(0, q, n)\n",
        "    c1 = (np.dot(r, A) + m) % q\n",
        "    c2 = (np.dot(r, b)) % q\n",
        "    return c1, c2\n"
      ],
      "metadata": {
        "id": "A66_9DlkmzWb"
      },
      "execution_count": null,
      "outputs": []
    },
    {
      "cell_type": "code",
      "source": [
        "def homomorphic_add(c1, c2, q):\n",
        "    return (c1[0] + c2[0]) % q, (c1[1] + c2[1]) % q\n",
        "\n",
        "def homomorphic_mult(c1, c2, q):\n",
        "    return (c1[0] * c2[0]) % q, (c1[1] * c2[1]) % q\n"
      ],
      "metadata": {
        "id": "ZDSV_XGcm5sJ"
      },
      "execution_count": null,
      "outputs": []
    },
    {
      "cell_type": "code",
      "source": [
        "def decrypt(ciphertext, secret_key, q):\n",
        "    c1, c2 = ciphertext\n",
        "    return (c2 - np.dot(c1, secret_key)) % q\n"
      ],
      "metadata": {
        "id": "swbvkyK1m-lW"
      },
      "execution_count": null,
      "outputs": []
    },
    {
      "cell_type": "code",
      "source": [
        "public_key, secret_key = generate_keys(10, 100)\n",
        "q = 100\n",
        "m = 4\n",
        "enc_m = encrypt(m, public_key, q)\n",
        "dec_m = decrypt(enc_m, secret_key, q)\n",
        "print('encrypted message: ', enc_m)\n",
        "print('decrypted message: ',dec_m)"
      ],
      "metadata": {
        "colab": {
          "base_uri": "https://localhost:8080/"
        },
        "id": "nk7zqNAWnDDG",
        "outputId": "8dfacc40-5048-451c-f6d1-f464ab577e8c"
      },
      "execution_count": null,
      "outputs": [
        {
          "output_type": "stream",
          "name": "stdout",
          "text": [
            "encrypted message:  (array([92,  6, 51, 44, 85,  2,  1, 29, 95,  3]), 44)\n",
            "decrypted message:  38\n"
          ]
        }
      ]
    },
    {
      "cell_type": "code",
      "source": [],
      "metadata": {
        "id": "2KfXpzb7nnXF"
      },
      "execution_count": null,
      "outputs": []
    }
  ]
}