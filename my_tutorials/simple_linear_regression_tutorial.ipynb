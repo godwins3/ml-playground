{
  "nbformat": 4,
  "nbformat_minor": 0,
  "metadata": {
    "colab": {
      "provenance": [],
      "include_colab_link": true
    },
    "kernelspec": {
      "name": "python3",
      "display_name": "Python 3"
    }
  },
  "cells": [
    {
      "cell_type": "markdown",
      "metadata": {
        "id": "view-in-github",
        "colab_type": "text"
      },
      "source": [
        "<a href=\"https://colab.research.google.com/github/godwins3/ml-playground/blob/main/my_tutorials/simple_linear_regression_tutorial.ipynb\" target=\"_parent\"><img src=\"https://colab.research.google.com/assets/colab-badge.svg\" alt=\"Open In Colab\"/></a>"
      ]
    },
    {
      "cell_type": "markdown",
      "metadata": {
        "id": "K_2pm6VSHvgV"
      },
      "source": [
        "#Simple Linear Regression Tutorial\n",
        "\n",
        "URL: https://towardsai.net/p/machine-learning/calculating-simple-linear-regression-and-linear-best-fit-an-in-depth-tutorial-with-math-and-python-804a0cb23660\n",
        "\n"
      ]
    },
    {
      "cell_type": "markdown",
      "metadata": {
        "id": "Y2ItpwnWH4U-"
      },
      "source": [
        "## Simple Linear Regression from Scratch Implementation"
      ]
    },
    {
      "cell_type": "code",
      "metadata": {
        "id": "pVWEhSFRYUMc",
        "outputId": "41d3f2fd-ae4f-4e40-aef1-af6d1065842e",
        "colab": {
          "base_uri": "https://localhost:8080/",
          "height": 208
        }
      },
      "source": [
        "!wget https://raw.githubusercontent.com/towardsai/tutorials/master/simple_linear_regression_tutorial/Fuel_Consumption.csv"
      ],
      "execution_count": null,
      "outputs": [
        {
          "output_type": "stream",
          "text": [
            "--2020-10-06 04:15:16--  https://raw.githubusercontent.com/towardsai/tutorials/master/simple_linear_regression_tutorial/Fuel_Consumption.csv\n",
            "Resolving raw.githubusercontent.com (raw.githubusercontent.com)... 151.101.0.133, 151.101.64.133, 151.101.128.133, ...\n",
            "Connecting to raw.githubusercontent.com (raw.githubusercontent.com)|151.101.0.133|:443... connected.\n",
            "HTTP request sent, awaiting response... 200 OK\n",
            "Length: 72629 (71K) [text/plain]\n",
            "Saving to: ‘Fuel_Consumption.csv’\n",
            "\n",
            "Fuel_Consumption.cs 100%[===================>]  70.93K  --.-KB/s    in 0.02s   \n",
            "\n",
            "2020-10-06 04:15:17 (4.11 MB/s) - ‘Fuel_Consumption.csv’ saved [72629/72629]\n",
            "\n"
          ],
          "name": "stdout"
        }
      ]
    },
    {
      "cell_type": "code",
      "metadata": {
        "id": "1Sw_hUVkXXy0"
      },
      "source": [
        "#Import the required libraries:\n",
        "\n",
        "import numpy as np\n",
        "import pandas as pd\n",
        "import matplotlib.pyplot as plt"
      ],
      "execution_count": null,
      "outputs": []
    },
    {
      "cell_type": "code",
      "metadata": {
        "id": "mzh1GHp8XfEd",
        "outputId": "480a9745-68ec-49a2-9f5e-a74fb85b3015",
        "colab": {
          "base_uri": "https://localhost:8080/",
          "height": 274
        }
      },
      "source": [
        "#Read the csv file:\n",
        "\n",
        "data = pd.read_csv(\"Fuel_Consumption.csv\")\n",
        "data.head()"
      ],
      "execution_count": null,
      "outputs": [
        {
          "output_type": "execute_result",
          "data": {
            "text/html": [
              "<div>\n",
              "<style scoped>\n",
              "    .dataframe tbody tr th:only-of-type {\n",
              "        vertical-align: middle;\n",
              "    }\n",
              "\n",
              "    .dataframe tbody tr th {\n",
              "        vertical-align: top;\n",
              "    }\n",
              "\n",
              "    .dataframe thead th {\n",
              "        text-align: right;\n",
              "    }\n",
              "</style>\n",
              "<table border=\"1\" class=\"dataframe\">\n",
              "  <thead>\n",
              "    <tr style=\"text-align: right;\">\n",
              "      <th></th>\n",
              "      <th>MODELYEAR</th>\n",
              "      <th>MAKE</th>\n",
              "      <th>MODEL</th>\n",
              "      <th>VEHICLECLASS</th>\n",
              "      <th>ENGINESIZE</th>\n",
              "      <th>CYLINDERS</th>\n",
              "      <th>TRANSMISSION</th>\n",
              "      <th>FUELTYPE</th>\n",
              "      <th>FUELCONSUMPTION_CITY</th>\n",
              "      <th>FUELCONSUMPTION_HWY</th>\n",
              "      <th>FUELCONSUMPTION_COMB</th>\n",
              "      <th>FUELCONSUMPTION_COMB_MPG</th>\n",
              "      <th>CO2EMISSIONS</th>\n",
              "    </tr>\n",
              "  </thead>\n",
              "  <tbody>\n",
              "    <tr>\n",
              "      <th>0</th>\n",
              "      <td>2014</td>\n",
              "      <td>ACURA</td>\n",
              "      <td>ILX</td>\n",
              "      <td>COMPACT</td>\n",
              "      <td>2.0</td>\n",
              "      <td>4</td>\n",
              "      <td>AS5</td>\n",
              "      <td>Z</td>\n",
              "      <td>9.9</td>\n",
              "      <td>6.7</td>\n",
              "      <td>8.5</td>\n",
              "      <td>33</td>\n",
              "      <td>196</td>\n",
              "    </tr>\n",
              "    <tr>\n",
              "      <th>1</th>\n",
              "      <td>2014</td>\n",
              "      <td>ACURA</td>\n",
              "      <td>ILX</td>\n",
              "      <td>COMPACT</td>\n",
              "      <td>2.4</td>\n",
              "      <td>4</td>\n",
              "      <td>M6</td>\n",
              "      <td>Z</td>\n",
              "      <td>11.2</td>\n",
              "      <td>7.7</td>\n",
              "      <td>9.6</td>\n",
              "      <td>29</td>\n",
              "      <td>221</td>\n",
              "    </tr>\n",
              "    <tr>\n",
              "      <th>2</th>\n",
              "      <td>2014</td>\n",
              "      <td>ACURA</td>\n",
              "      <td>ILX HYBRID</td>\n",
              "      <td>COMPACT</td>\n",
              "      <td>1.5</td>\n",
              "      <td>4</td>\n",
              "      <td>AV7</td>\n",
              "      <td>Z</td>\n",
              "      <td>6.0</td>\n",
              "      <td>5.8</td>\n",
              "      <td>5.9</td>\n",
              "      <td>48</td>\n",
              "      <td>136</td>\n",
              "    </tr>\n",
              "    <tr>\n",
              "      <th>3</th>\n",
              "      <td>2014</td>\n",
              "      <td>ACURA</td>\n",
              "      <td>MDX 4WD</td>\n",
              "      <td>SUV - SMALL</td>\n",
              "      <td>3.5</td>\n",
              "      <td>6</td>\n",
              "      <td>AS6</td>\n",
              "      <td>Z</td>\n",
              "      <td>12.7</td>\n",
              "      <td>9.1</td>\n",
              "      <td>11.1</td>\n",
              "      <td>25</td>\n",
              "      <td>255</td>\n",
              "    </tr>\n",
              "    <tr>\n",
              "      <th>4</th>\n",
              "      <td>2014</td>\n",
              "      <td>ACURA</td>\n",
              "      <td>RDX AWD</td>\n",
              "      <td>SUV - SMALL</td>\n",
              "      <td>3.5</td>\n",
              "      <td>6</td>\n",
              "      <td>AS6</td>\n",
              "      <td>Z</td>\n",
              "      <td>12.1</td>\n",
              "      <td>8.7</td>\n",
              "      <td>10.6</td>\n",
              "      <td>27</td>\n",
              "      <td>244</td>\n",
              "    </tr>\n",
              "  </tbody>\n",
              "</table>\n",
              "</div>"
            ],
            "text/plain": [
              "   MODELYEAR   MAKE  ... FUELCONSUMPTION_COMB_MPG CO2EMISSIONS\n",
              "0       2014  ACURA  ...                       33          196\n",
              "1       2014  ACURA  ...                       29          221\n",
              "2       2014  ACURA  ...                       48          136\n",
              "3       2014  ACURA  ...                       25          255\n",
              "4       2014  ACURA  ...                       27          244\n",
              "\n",
              "[5 rows x 13 columns]"
            ]
          },
          "metadata": {
            "tags": []
          },
          "execution_count": 3
        }
      ]
    },
    {
      "cell_type": "code",
      "metadata": {
        "id": "HkeLNUZOXiNZ",
        "outputId": "93c841b0-33f0-4c44-be93-9161970d709b",
        "colab": {
          "base_uri": "https://localhost:8080/",
          "height": 104
        }
      },
      "source": [
        "#Columns in our dataset:\n",
        "\n",
        "data.columns"
      ],
      "execution_count": null,
      "outputs": [
        {
          "output_type": "execute_result",
          "data": {
            "text/plain": [
              "Index(['MODELYEAR', 'MAKE', 'MODEL', 'VEHICLECLASS', 'ENGINESIZE', 'CYLINDERS',\n",
              "       'TRANSMISSION', 'FUELTYPE', 'FUELCONSUMPTION_CITY',\n",
              "       'FUELCONSUMPTION_HWY', 'FUELCONSUMPTION_COMB',\n",
              "       'FUELCONSUMPTION_COMB_MPG', 'CO2EMISSIONS'],\n",
              "      dtype='object')"
            ]
          },
          "metadata": {
            "tags": []
          },
          "execution_count": 4
        }
      ]
    },
    {
      "cell_type": "code",
      "metadata": {
        "id": "rW59VKA4YZrI",
        "outputId": "7710ff7b-c2b5-416b-aa1c-59b64436e561",
        "colab": {
          "base_uri": "https://localhost:8080/",
          "height": 364
        }
      },
      "source": [
        "#Find datatype of each column and check if any entry is null or not:\n",
        "\n",
        "data.info()"
      ],
      "execution_count": null,
      "outputs": [
        {
          "output_type": "stream",
          "text": [
            "<class 'pandas.core.frame.DataFrame'>\n",
            "RangeIndex: 1067 entries, 0 to 1066\n",
            "Data columns (total 13 columns):\n",
            " #   Column                    Non-Null Count  Dtype  \n",
            "---  ------                    --------------  -----  \n",
            " 0   MODELYEAR                 1067 non-null   int64  \n",
            " 1   MAKE                      1067 non-null   object \n",
            " 2   MODEL                     1067 non-null   object \n",
            " 3   VEHICLECLASS              1067 non-null   object \n",
            " 4   ENGINESIZE                1067 non-null   float64\n",
            " 5   CYLINDERS                 1067 non-null   int64  \n",
            " 6   TRANSMISSION              1067 non-null   object \n",
            " 7   FUELTYPE                  1067 non-null   object \n",
            " 8   FUELCONSUMPTION_CITY      1067 non-null   float64\n",
            " 9   FUELCONSUMPTION_HWY       1067 non-null   float64\n",
            " 10  FUELCONSUMPTION_COMB      1067 non-null   float64\n",
            " 11  FUELCONSUMPTION_COMB_MPG  1067 non-null   int64  \n",
            " 12  CO2EMISSIONS              1067 non-null   int64  \n",
            "dtypes: float64(4), int64(4), object(5)\n",
            "memory usage: 108.5+ KB\n"
          ],
          "name": "stdout"
        }
      ]
    },
    {
      "cell_type": "code",
      "metadata": {
        "id": "Q-diMlexYapK",
        "outputId": "9d5c1373-40d0-4b26-cce5-5f8f7c67981a",
        "colab": {
          "base_uri": "https://localhost:8080/",
          "height": 121
        }
      },
      "source": [
        "#Select only those features from our dataset which we are going to use for predictions:\n",
        "\n",
        "data = data[[\"ENGINESIZE\",\"CO2EMISSIONS\"]]\n",
        "print(data.head())"
      ],
      "execution_count": null,
      "outputs": [
        {
          "output_type": "stream",
          "text": [
            "   ENGINESIZE  CO2EMISSIONS\n",
            "0         2.0           196\n",
            "1         2.4           221\n",
            "2         1.5           136\n",
            "3         3.5           255\n",
            "4         3.5           244\n"
          ],
          "name": "stdout"
        }
      ]
    },
    {
      "cell_type": "code",
      "metadata": {
        "id": "7HxdV2wKYbho",
        "outputId": "7682cea5-b7d3-47bc-bbcf-80e8f56ebd14",
        "colab": {
          "base_uri": "https://localhost:8080/",
          "height": 295
        }
      },
      "source": [
        "#Scatter Plot:\n",
        "#ENGINESIZE VS CO2EMISSIONS :\n",
        "\n",
        "plt.scatter(data[\"ENGINESIZE\"],data[\"CO2EMISSIONS\"])\n",
        "plt.title(\"ENGINESIZE VS CO2EMISSIONS\")\n",
        "plt.xlabel(\"Enginesize\")\n",
        "plt.ylabel(\"Emission\")\n",
        "plt.show()"
      ],
      "execution_count": null,
      "outputs": [
        {
          "output_type": "display_data",
          "data": {
            "image/png": "[encoded data removed]",
            "text/plain": [
              "<Figure size 432x288 with 1 Axes>"
            ]
          },
          "metadata": {
            "tags": [],
            "needs_background": "light"
          }
        }
      ]
    },
    {
      "cell_type": "code",
      "metadata": {
        "id": "zj4qbwuUYcRo",
        "outputId": "0e76e365-6b3d-4c1a-ef45-03fd6762da36",
        "colab": {
          "base_uri": "https://localhost:8080/",
          "height": 69
        }
      },
      "source": [
        "#Taking 80% of the data for training and 20% for testing:\n",
        "num = int(len(data)*0.8)\n",
        "\n",
        "#Training data:\n",
        "train = data[:num]\n",
        "\n",
        "#Testing data:\n",
        "test = data[num:]\n",
        "\n",
        "print (\"Data: \",len(data))\n",
        "print (\"Train: \",len(train))\n",
        "print (\"Test: \",len(test))"
      ],
      "execution_count": null,
      "outputs": [
        {
          "output_type": "stream",
          "text": [
            "Data:  1067\n",
            "Train:  853\n",
            "Test:  214\n"
          ],
          "name": "stdout"
        }
      ]
    },
    {
      "cell_type": "code",
      "metadata": {
        "id": "4yTxAxViYdCZ"
      },
      "source": [
        "#Main function to find the coefficients of line:\n",
        "\n",
        "def simple_linear_regression(input_feature,output):\n",
        "\n",
        "    Xi = input_feature\n",
        "    Yi = output\n",
        "\n",
        "    #Total number of data points:\n",
        "    n = len(Xi)\n",
        "\n",
        "    #X bar:\n",
        "    Xi_mean = Xi.mean()\n",
        "\n",
        "    #Y bar:\n",
        "    Yi_mean = Yi.mean()\n",
        "\n",
        "    #Sum of X:\n",
        "    S_Xi = (Xi).sum()\n",
        "\n",
        "    #Sum of Y:\n",
        "    S_Yi = (Yi).sum()\n",
        "\n",
        "    #Sum of (X*Y) multiplied by n:\n",
        "    S_XiYi = ((Xi*Yi).sum())*n\n",
        "\n",
        "    #Sum of X*Sum of Y:\n",
        "    S_Xi_S_Yi = S_Xi*S_Yi\n",
        "\n",
        "    #Sum of (X*X) multiplied by n:\n",
        "    S_XiXi = ((Xi*Xi).sum())*n\n",
        "\n",
        "    #Square of sum of X:\n",
        "    S_Xi_Square = S_Xi*S_Xi\n",
        "\n",
        "    #Slope:\n",
        "    slope = (S_XiYi- S_Xi_S_Yi) / (S_XiXi-S_Xi_Square)\n",
        "\n",
        "    #Intercept:\n",
        "    intercept = Yi_mean - slope * Xi_mean\n",
        "\n",
        "    return slope,intercept"
      ],
      "execution_count": null,
      "outputs": []
    },
    {
      "cell_type": "code",
      "metadata": {
        "id": "3kbMmi6JYeB4",
        "outputId": "15e848c0-2f52-46db-ab68-7c53107b99ea",
        "colab": {
          "base_uri": "https://localhost:8080/",
          "height": 52
        }
      },
      "source": [
        "#Check the function with dummy data:\n",
        "\n",
        "dummy_input = np.array((1,2,3,4,5))\n",
        "dummy_output = np.array((1,2,3,4,5))\n",
        "\n",
        "dummy_slope,dummy_intercept = simple_linear_regression(dummy_input,dummy_output)\n",
        "\n",
        "print (\"Slope : \" , dummy_slope)\n",
        "print (\"Intercept :\",dummy_intercept)"
      ],
      "execution_count": null,
      "outputs": [
        {
          "output_type": "stream",
          "text": [
            "Slope :  1.0\n",
            "Intercept : 0.0\n"
          ],
          "name": "stdout"
        }
      ]
    },
    {
      "cell_type": "code",
      "metadata": {
        "id": "LQUNb-cSYgWR",
        "outputId": "c88da950-ed64-4afa-d50b-f8933c0de57c",
        "colab": {
          "base_uri": "https://localhost:8080/",
          "height": 265
        }
      },
      "source": [
        "#Graph for dummy data:\n",
        "\n",
        "plt.scatter([1,2,3,4,5],[1,2,3,4,5])\n",
        "plt.plot([1,2,3,4,5],[1,2,3,4,5],color=\"red\")\n",
        "plt.show()"
      ],
      "execution_count": null,
      "outputs": [
        {
          "output_type": "display_data",
          "data": {
            "image/png": "[encoded data removed]",
            "text/plain": [
              "<Figure size 432x288 with 1 Axes>"
            ]
          },
          "metadata": {
            "tags": [],
            "needs_background": "light"
          }
        }
      ]
    },
    {
      "cell_type": "code",
      "metadata": {
        "id": "b-Wo2LkkYhXI",
        "outputId": "a81d3f8c-658b-4d59-8283-210c9280d29e",
        "colab": {
          "base_uri": "https://localhost:8080/",
          "height": 265
        }
      },
      "source": [
        "#Graph for dummy data:\n",
        "\n",
        "plt.scatter([1,2,3,4,5],[1,2,3,4,5])\n",
        "plt.plot([1,2,3,4,5],[1,2,3,4,5],color=\"red\")\n",
        "plt.show()"
      ],
      "execution_count": null,
      "outputs": [
        {
          "output_type": "display_data",
          "data": {
            "image/png": "[encoded data removed]",
            "text/plain": [
              "<Figure size 432x288 with 1 Axes>"
            ]
          },
          "metadata": {
            "tags": [],
            "needs_background": "light"
          }
        }
      ]
    },
    {
      "cell_type": "code",
      "metadata": {
        "id": "l8apyWaAYiFc",
        "outputId": "9ae8b3e8-cba6-4c17-a88f-9ecde3014630",
        "colab": {
          "base_uri": "https://localhost:8080/",
          "height": 52
        }
      },
      "source": [
        "#Training the model with train data:\n",
        "#Finding the coefficients of best fit line:\n",
        "\n",
        "actual_slope,actual_intercept = simple_linear_regression(train[\"ENGINESIZE\"],train[\"CO2EMISSIONS\"])\n",
        "\n",
        "print (\"Slope: \" ,actual_slope)\n",
        "print (\"Intercept: \" ,actual_intercept)"
      ],
      "execution_count": null,
      "outputs": [
        {
          "output_type": "stream",
          "text": [
            "Slope:  38.79512383605654\n",
            "Intercept:  127.16989950881984\n"
          ],
          "name": "stdout"
        }
      ]
    },
    {
      "cell_type": "code",
      "metadata": {
        "id": "OsAZO0TiYixI",
        "outputId": "c53f4705-126e-4866-f308-4805336ab10b",
        "colab": {
          "base_uri": "https://localhost:8080/",
          "height": 281
        }
      },
      "source": [
        "#Plot the regression line with training data:\n",
        "\n",
        "plt.scatter(train[\"ENGINESIZE\"],train[\"CO2EMISSIONS\"])\n",
        "plt.plot(train[\"ENGINESIZE\"],actual_slope*train[\"ENGINESIZE\"]+actual_intercept,color=\"green\")\n",
        "plt.xlabel(\"Engine_Size\")\n",
        "plt.ylabel(\"Emission\")\n",
        "plt.show()"
      ],
      "execution_count": null,
      "outputs": [
        {
          "output_type": "display_data",
          "data": {
            "image/png": "[encoded data removed]",
            "text/plain": [
              "<Figure size 432x288 with 1 Axes>"
            ]
          },
          "metadata": {
            "tags": [],
            "needs_background": "light"
          }
        }
      ]
    },
    {
      "cell_type": "code",
      "metadata": {
        "id": "yCZ5F4zdYjag"
      },
      "source": [
        "#Define the prediction function:\n",
        "\n",
        "def get_regression_prediction(input_features,slope,intercept):\n",
        "    predicted_value = actual_slope*input_features + actual_intercept\n",
        "    return predicted_value"
      ],
      "execution_count": null,
      "outputs": []
    },
    {
      "cell_type": "code",
      "metadata": {
        "id": "9-r3ww2wYkRA",
        "outputId": "8814a813-e295-43e8-ce6d-5c68f016f28b",
        "colab": {
          "base_uri": "https://localhost:8080/",
          "height": 35
        }
      },
      "source": [
        "#Predicting values based on prediction function:\n",
        "\n",
        "my_engine_size = 5\n",
        "\n",
        "estimated_emission = get_regression_prediction(my_engine_size,actual_slope,actual_intercept)\n",
        "\n",
        "print (\"Estimated Emission: \",estimated_emission)"
      ],
      "execution_count": null,
      "outputs": [
        {
          "output_type": "stream",
          "text": [
            "Estimated Emission:  321.1455186891026\n"
          ],
          "name": "stdout"
        }
      ]
    },
    {
      "cell_type": "code",
      "metadata": {
        "id": "5sz2x_WqYlFg",
        "outputId": "feb2ede0-4619-4d48-cc05-da4b30b69ae1",
        "colab": {
          "base_uri": "https://localhost:8080/",
          "height": 225
        }
      },
      "source": [
        "#Predicting values for the whole dataset:\n",
        "\n",
        "y_pred = get_regression_prediction(data[\"ENGINESIZE\"],actual_slope,actual_intercept)\n",
        "print(y_pred)"
      ],
      "execution_count": null,
      "outputs": [
        {
          "output_type": "stream",
          "text": [
            "0       204.760147\n",
            "1       220.278197\n",
            "2       185.362585\n",
            "3       262.952833\n",
            "4       262.952833\n",
            "           ...    \n",
            "1062    243.555271\n",
            "1063    251.314296\n",
            "1064    243.555271\n",
            "1065    251.314296\n",
            "1066    251.314296\n",
            "Name: ENGINESIZE, Length: 1067, dtype: float64\n"
          ],
          "name": "stdout"
        }
      ]
    },
    {
      "cell_type": "code",
      "metadata": {
        "id": "gclZ0VcVYl7o",
        "outputId": "f5ffe0b9-34e9-487a-a02a-db0dfc09be96",
        "colab": {
          "base_uri": "https://localhost:8080/",
          "height": 280
        }
      },
      "source": [
        "#Plot the regression line for test data:\n",
        "\n",
        "plt.scatter(test[\"ENGINESIZE\"],test[\"CO2EMISSIONS\"])\n",
        "plt.plot(test[\"ENGINESIZE\"],actual_slope*test[\"ENGINESIZE\"]+actual_intercept,color=\"red\")\n",
        "plt.xlabel(\"Engine_Size\")\n",
        "plt.ylabel(\"Emission\")\n",
        "plt.show()"
      ],
      "execution_count": null,
      "outputs": [
        {
          "output_type": "display_data",
          "data": {
            "image/png": "[encoded data removed]",
            "text/plain": [
              "<Figure size 432x288 with 1 Axes>"
            ]
          },
          "metadata": {
            "tags": [],
            "needs_background": "light"
          }
        }
      ]
    },
    {
      "cell_type": "code",
      "metadata": {
        "id": "qd7nlkYzYmnx",
        "outputId": "a41ed97b-cc52-4197-c1d0-53d8d9c45004",
        "colab": {
          "base_uri": "https://localhost:8080/",
          "height": 281
        }
      },
      "source": [
        "#Plot the regression line for the training data:\n",
        "\n",
        "plt.scatter(train[\"ENGINESIZE\"],train[\"CO2EMISSIONS\"])\n",
        "plt.plot(train[\"ENGINESIZE\"],actual_slope*train[\"ENGINESIZE\"]+actual_intercept,color=\"red\")\n",
        "plt.xlabel(\"Engine_Size\")\n",
        "plt.ylabel(\"Emission\")\n",
        "plt.show()"
      ],
      "execution_count": null,
      "outputs": [
        {
          "output_type": "display_data",
          "data": {
            "image/png": "[encoded data removed]",
            "text/plain": [
              "<Figure size 432x288 with 1 Axes>"
            ]
          },
          "metadata": {
            "tags": [],
            "needs_background": "light"
          }
        }
      ]
    },
    {
      "cell_type": "code",
      "metadata": {
        "id": "6hRuLLLaYnVo",
        "outputId": "d6947539-0c66-4591-8795-409920609df3",
        "colab": {
          "base_uri": "https://localhost:8080/",
          "height": 281
        }
      },
      "source": [
        "#Plot the regression line for complete data:\n",
        "\n",
        "plt.scatter(data[\"ENGINESIZE\"],data[\"CO2EMISSIONS\"])\n",
        "plt.plot(data[\"ENGINESIZE\"],actual_slope*data[\"ENGINESIZE\"]+actual_intercept,color=\"red\")\n",
        "plt.xlabel(\"Engine_Size\")\n",
        "plt.ylabel(\"Emission\")\n",
        "plt.show()"
      ],
      "execution_count": null,
      "outputs": [
        {
          "output_type": "display_data",
          "data": {
            "image/png": "[encoded data removed]",
            "text/plain": [
              "<Figure size 432x288 with 1 Axes>"
            ]
          },
          "metadata": {
            "tags": [],
            "needs_background": "light"
          }
        }
      ]
    },
    {
      "cell_type": "code",
      "metadata": {
        "id": "Fq4kNGivYoNR",
        "outputId": "7c792af9-8d13-4d82-9c9b-ad79d430271b",
        "colab": {
          "base_uri": "https://localhost:8080/",
          "height": 121
        }
      },
      "source": [
        "#Create a dataframe for Actual and Predicted values:\n",
        "\n",
        "A_P_data = pd.DataFrame({\"Actual\":data[\"CO2EMISSIONS\"] , \"Predicted\" :y_pred})\n",
        "print(A_P_data.head())"
      ],
      "execution_count": null,
      "outputs": [
        {
          "output_type": "stream",
          "text": [
            "   Actual   Predicted\n",
            "0     196  204.760147\n",
            "1     221  220.278197\n",
            "2     136  185.362585\n",
            "3     255  262.952833\n",
            "4     244  262.952833\n"
          ],
          "name": "stdout"
        }
      ]
    },
    {
      "cell_type": "code",
      "metadata": {
        "id": "kiAdI8kqYqFY",
        "outputId": "79d2725f-ec88-40b2-96c8-555860466cbe",
        "colab": {
          "base_uri": "https://localhost:8080/",
          "height": 370
        }
      },
      "source": [
        "#Plot the bar graph for actual and predicted values:\n",
        "\n",
        "A_P_data.head(10).plot(kind='bar',figsize=(12,6))\n",
        "plt.show()"
      ],
      "execution_count": null,
      "outputs": [
        {
          "output_type": "display_data",
          "data": {
            "image/png": "[encoded data removed]",
            "text/plain": [
              "<Figure size 864x432 with 1 Axes>"
            ]
          },
          "metadata": {
            "tags": [],
            "needs_background": "light"
          }
        }
      ]
    },
    {
      "cell_type": "code",
      "metadata": {
        "id": "x3rwHzMcYsiq"
      },
      "source": [
        "#Error calculation using Residual Sum of Squares:\n",
        "\n",
        "def residual_sum_of_squares(input_feature,output,slope,intercept):\n",
        "    prediction = slope*input_feature + intercept\n",
        "\n",
        "    residual = (output - prediction)\n",
        "\n",
        "    RSS = (residual*residual).sum()\n",
        "\n",
        "    return(RSS)"
      ],
      "execution_count": null,
      "outputs": []
    },
    {
      "cell_type": "code",
      "metadata": {
        "id": "0yu4sc7zYtZp",
        "outputId": "d46964b9-ac35-403f-8143-7a5f09db25c3",
        "colab": {
          "base_uri": "https://localhost:8080/",
          "height": 35
        }
      },
      "source": [
        "#Calculating error in prediction for our dataset:\n",
        "\n",
        "print (\"RSS : \",residual_sum_of_squares(test[\"ENGINESIZE\"],test[\"CO2EMISSIONS\"],actual_slope,actual_intercept))"
      ],
      "execution_count": null,
      "outputs": [
        {
          "output_type": "stream",
          "text": [
            "RSS :  159741.10295932254\n"
          ],
          "name": "stdout"
        }
      ]
    },
    {
      "cell_type": "markdown",
      "metadata": {
        "id": "ee9WWn9dIG33"
      },
      "source": [
        "## Simple Linear Regression with Scikit-learn Implementation"
      ]
    },
    {
      "cell_type": "code",
      "metadata": {
        "id": "C9N_2xOFYuNQ"
      },
      "source": [
        "import pandas as pd\n",
        "import numpy as np\n",
        "import matplotlib.pyplot as plt\n",
        "from sklearn import linear_model"
      ],
      "execution_count": null,
      "outputs": []
    },
    {
      "cell_type": "code",
      "metadata": {
        "id": "mkrr8CF-ISs-",
        "outputId": "f8d0e494-4495-4212-9de1-6e3ec4409c85",
        "colab": {
          "base_uri": "https://localhost:8080/",
          "height": 274
        }
      },
      "source": [
        "#Read csv file :\n",
        "\n",
        "data = pd.read_csv(\"Fuel_Consumption.csv\")\n",
        "data.head()"
      ],
      "execution_count": null,
      "outputs": [
        {
          "output_type": "execute_result",
          "data": {
            "text/html": [
              "<div>\n",
              "<style scoped>\n",
              "    .dataframe tbody tr th:only-of-type {\n",
              "        vertical-align: middle;\n",
              "    }\n",
              "\n",
              "    .dataframe tbody tr th {\n",
              "        vertical-align: top;\n",
              "    }\n",
              "\n",
              "    .dataframe thead th {\n",
              "        text-align: right;\n",
              "    }\n",
              "</style>\n",
              "<table border=\"1\" class=\"dataframe\">\n",
              "  <thead>\n",
              "    <tr style=\"text-align: right;\">\n",
              "      <th></th>\n",
              "      <th>MODELYEAR</th>\n",
              "      <th>MAKE</th>\n",
              "      <th>MODEL</th>\n",
              "      <th>VEHICLECLASS</th>\n",
              "      <th>ENGINESIZE</th>\n",
              "      <th>CYLINDERS</th>\n",
              "      <th>TRANSMISSION</th>\n",
              "      <th>FUELTYPE</th>\n",
              "      <th>FUELCONSUMPTION_CITY</th>\n",
              "      <th>FUELCONSUMPTION_HWY</th>\n",
              "      <th>FUELCONSUMPTION_COMB</th>\n",
              "      <th>FUELCONSUMPTION_COMB_MPG</th>\n",
              "      <th>CO2EMISSIONS</th>\n",
              "    </tr>\n",
              "  </thead>\n",
              "  <tbody>\n",
              "    <tr>\n",
              "      <th>0</th>\n",
              "      <td>2014</td>\n",
              "      <td>ACURA</td>\n",
              "      <td>ILX</td>\n",
              "      <td>COMPACT</td>\n",
              "      <td>2.0</td>\n",
              "      <td>4</td>\n",
              "      <td>AS5</td>\n",
              "      <td>Z</td>\n",
              "      <td>9.9</td>\n",
              "      <td>6.7</td>\n",
              "      <td>8.5</td>\n",
              "      <td>33</td>\n",
              "      <td>196</td>\n",
              "    </tr>\n",
              "    <tr>\n",
              "      <th>1</th>\n",
              "      <td>2014</td>\n",
              "      <td>ACURA</td>\n",
              "      <td>ILX</td>\n",
              "      <td>COMPACT</td>\n",
              "      <td>2.4</td>\n",
              "      <td>4</td>\n",
              "      <td>M6</td>\n",
              "      <td>Z</td>\n",
              "      <td>11.2</td>\n",
              "      <td>7.7</td>\n",
              "      <td>9.6</td>\n",
              "      <td>29</td>\n",
              "      <td>221</td>\n",
              "    </tr>\n",
              "    <tr>\n",
              "      <th>2</th>\n",
              "      <td>2014</td>\n",
              "      <td>ACURA</td>\n",
              "      <td>ILX HYBRID</td>\n",
              "      <td>COMPACT</td>\n",
              "      <td>1.5</td>\n",
              "      <td>4</td>\n",
              "      <td>AV7</td>\n",
              "      <td>Z</td>\n",
              "      <td>6.0</td>\n",
              "      <td>5.8</td>\n",
              "      <td>5.9</td>\n",
              "      <td>48</td>\n",
              "      <td>136</td>\n",
              "    </tr>\n",
              "    <tr>\n",
              "      <th>3</th>\n",
              "      <td>2014</td>\n",
              "      <td>ACURA</td>\n",
              "      <td>MDX 4WD</td>\n",
              "      <td>SUV - SMALL</td>\n",
              "      <td>3.5</td>\n",
              "      <td>6</td>\n",
              "      <td>AS6</td>\n",
              "      <td>Z</td>\n",
              "      <td>12.7</td>\n",
              "      <td>9.1</td>\n",
              "      <td>11.1</td>\n",
              "      <td>25</td>\n",
              "      <td>255</td>\n",
              "    </tr>\n",
              "    <tr>\n",
              "      <th>4</th>\n",
              "      <td>2014</td>\n",
              "      <td>ACURA</td>\n",
              "      <td>RDX AWD</td>\n",
              "      <td>SUV - SMALL</td>\n",
              "      <td>3.5</td>\n",
              "      <td>6</td>\n",
              "      <td>AS6</td>\n",
              "      <td>Z</td>\n",
              "      <td>12.1</td>\n",
              "      <td>8.7</td>\n",
              "      <td>10.6</td>\n",
              "      <td>27</td>\n",
              "      <td>244</td>\n",
              "    </tr>\n",
              "  </tbody>\n",
              "</table>\n",
              "</div>"
            ],
            "text/plain": [
              "   MODELYEAR   MAKE  ... FUELCONSUMPTION_COMB_MPG CO2EMISSIONS\n",
              "0       2014  ACURA  ...                       33          196\n",
              "1       2014  ACURA  ...                       29          221\n",
              "2       2014  ACURA  ...                       48          136\n",
              "3       2014  ACURA  ...                       25          255\n",
              "4       2014  ACURA  ...                       27          244\n",
              "\n",
              "[5 rows x 13 columns]"
            ]
          },
          "metadata": {
            "tags": []
          },
          "execution_count": 26
        }
      ]
    },
    {
      "cell_type": "code",
      "metadata": {
        "id": "n3ZX4cBGIU-F",
        "outputId": "def801cd-57c2-4de9-9c38-66330214fabe",
        "colab": {
          "base_uri": "https://localhost:8080/",
          "height": 121
        }
      },
      "source": [
        "#Select only those features from our dataset which we are going to use for predictions:\n",
        "\n",
        "data = data[[\"ENGINESIZE\",\"CO2EMISSIONS\"]]\n",
        "print(data.head())"
      ],
      "execution_count": null,
      "outputs": [
        {
          "output_type": "stream",
          "text": [
            "   ENGINESIZE  CO2EMISSIONS\n",
            "0         2.0           196\n",
            "1         2.4           221\n",
            "2         1.5           136\n",
            "3         3.5           255\n",
            "4         3.5           244\n"
          ],
          "name": "stdout"
        }
      ]
    },
    {
      "cell_type": "code",
      "metadata": {
        "id": "X5Obw8k2IWMM",
        "outputId": "56f534d7-353b-4567-8f1e-d39dbd534ca9",
        "colab": {
          "base_uri": "https://localhost:8080/",
          "height": 295
        }
      },
      "source": [
        "#Scatter Plot:\n",
        "#ENGINESIZE VS CO2EMISSIONS :\n",
        "\n",
        "plt.scatter(data[\"ENGINESIZE\"],data[\"CO2EMISSIONS\"])\n",
        "plt.title(\"ENGINESIZE VS CO2EMISSIONS\")\n",
        "plt.xlabel(\"Enginesize\")\n",
        "plt.ylabel(\"Emission\")\n",
        "plt.show()"
      ],
      "execution_count": null,
      "outputs": [
        {
          "output_type": "display_data",
          "data": {
            "image/png": "[encoded data removed]",
            "text/plain": [
              "<Figure size 432x288 with 1 Axes>"
            ]
          },
          "metadata": {
            "tags": [],
            "needs_background": "light"
          }
        }
      ]
    },
    {
      "cell_type": "code",
      "metadata": {
        "id": "jgEF7t5-IY6z",
        "outputId": "e840471f-0a7a-4137-c999-363be2159927",
        "colab": {
          "base_uri": "https://localhost:8080/",
          "height": 69
        }
      },
      "source": [
        "#Taking 80% of the data for training and 20% for testing:\n",
        "num = int(len(data)*0.8)\n",
        "\n",
        "#Training data:\n",
        "train = data[:num]\n",
        "\n",
        "#Testing data:\n",
        "test = data[num:]\n",
        "\n",
        "print (\"Data: \",len(data))\n",
        "print (\"Train: \",len(train))\n",
        "print (\"Test: \",len(test))"
      ],
      "execution_count": null,
      "outputs": [
        {
          "output_type": "stream",
          "text": [
            "Data:  1067\n",
            "Train:  853\n",
            "Test:  214\n"
          ],
          "name": "stdout"
        }
      ]
    },
    {
      "cell_type": "code",
      "metadata": {
        "id": "-oWn--VRIZn0",
        "outputId": "18be5b31-1105-4c9b-ddf1-af2d5daac1f6",
        "colab": {
          "base_uri": "https://localhost:8080/",
          "height": 52
        }
      },
      "source": [
        "#Training the model:\n",
        "\n",
        "regr = linear_model.LinearRegression()\n",
        "\n",
        "train_x = np.array(train[[\"ENGINESIZE\"]])\n",
        "train_y = np.array(train[[\"CO2EMISSIONS\"]])\n",
        "\n",
        "regr.fit(train_x,train_y)\n",
        "\n",
        "coefficients = regr.coef_\n",
        "intercept = regr.intercept_\n",
        "\n",
        "#Slope:\n",
        "print (\"Slope: \",coefficients[0])\n",
        "\n",
        "#Intercept:\n",
        "print(\"Intercept: \",intercept)"
      ],
      "execution_count": null,
      "outputs": [
        {
          "output_type": "stream",
          "text": [
            "Slope:  [38.79512384]\n",
            "Intercept:  [127.16989951]\n"
          ],
          "name": "stdout"
        }
      ]
    },
    {
      "cell_type": "code",
      "metadata": {
        "id": "JofUZe91IarL",
        "outputId": "e50524a7-549d-4587-af04-81430cdcaf86",
        "colab": {
          "base_uri": "https://localhost:8080/",
          "height": 280
        }
      },
      "source": [
        "#Plotting the regression line with train data:\n",
        "\n",
        "plt.scatter(train[\"ENGINESIZE\"], train[\"CO2EMISSIONS\"])\n",
        "plt.plot(train_x, coefficients[0]*train_x + intercept,color=\"red\")\n",
        "plt.xlabel(\"Engine size\")\n",
        "plt.ylabel(\"Emission\")\n",
        "plt.show()"
      ],
      "execution_count": null,
      "outputs": [
        {
          "output_type": "display_data",
          "data": {
            "image/png": "[encoded data removed]",
            "text/plain": [
              "<Figure size 432x288 with 1 Axes>"
            ]
          },
          "metadata": {
            "tags": [],
            "needs_background": "light"
          }
        }
      ]
    },
    {
      "cell_type": "code",
      "metadata": {
        "id": "W-ZT2AngIdoj",
        "outputId": "925dde7c-2c0f-468b-ea2b-6fb461a07480",
        "colab": {
          "base_uri": "https://localhost:8080/",
          "height": 139
        }
      },
      "source": [
        "regr.predict(data[[\"ENGINESIZE\"]])"
      ],
      "execution_count": null,
      "outputs": [
        {
          "output_type": "execute_result",
          "data": {
            "text/plain": [
              "array([[204.76014718],\n",
              "       [220.27819672],\n",
              "       [185.36258526],\n",
              "       ...,\n",
              "       [243.55527102],\n",
              "       [251.31429578],\n",
              "       [251.31429578]])"
            ]
          },
          "metadata": {
            "tags": []
          },
          "execution_count": 32
        }
      ]
    },
    {
      "cell_type": "code",
      "metadata": {
        "id": "XhOHPZFEIep6",
        "outputId": "c49d94be-a228-4231-eae0-f99e8122534f",
        "colab": {
          "base_uri": "https://localhost:8080/",
          "height": 104
        }
      },
      "source": [
        "#Predicting values for the whole dataset:\n",
        "\n",
        "predicted_data = regr.predict(data[[\"ENGINESIZE\"]])\n",
        "predicted_data[0:5]"
      ],
      "execution_count": null,
      "outputs": [
        {
          "output_type": "execute_result",
          "data": {
            "text/plain": [
              "array([[204.76014718],\n",
              "       [220.27819672],\n",
              "       [185.36258526],\n",
              "       [262.95283294],\n",
              "       [262.95283294]])"
            ]
          },
          "metadata": {
            "tags": []
          },
          "execution_count": 33
        }
      ]
    },
    {
      "cell_type": "code",
      "metadata": {
        "id": "dVXYYH_AIgpS",
        "outputId": "fd60b5d1-6c45-4e67-8c92-12ed887f4f95",
        "colab": {
          "base_uri": "https://localhost:8080/",
          "height": 104
        }
      },
      "source": [
        "predicted_train = regr.predict(train[[\"ENGINESIZE\"]])\n",
        "predicted_train[0:5]"
      ],
      "execution_count": null,
      "outputs": [
        {
          "output_type": "execute_result",
          "data": {
            "text/plain": [
              "array([[204.76014718],\n",
              "       [220.27819672],\n",
              "       [185.36258526],\n",
              "       [262.95283294],\n",
              "       [262.95283294]])"
            ]
          },
          "metadata": {
            "tags": []
          },
          "execution_count": 34
        }
      ]
    },
    {
      "cell_type": "code",
      "metadata": {
        "id": "JPwyzcecIjAc",
        "outputId": "2f732b52-190e-448d-da68-7aa9d457848f",
        "colab": {
          "base_uri": "https://localhost:8080/",
          "height": 104
        }
      },
      "source": [
        "predicted_test = regr.predict(test[[\"ENGINESIZE\"]])\n",
        "predicted_test[0:5]"
      ],
      "execution_count": null,
      "outputs": [
        {
          "output_type": "execute_result",
          "data": {
            "text/plain": [
              "array([[224.1577091 ],\n",
              "       [262.95283294],\n",
              "       [224.1577091 ],\n",
              "       [224.1577091 ],\n",
              "       [197.00112241]])"
            ]
          },
          "metadata": {
            "tags": []
          },
          "execution_count": 35
        }
      ]
    },
    {
      "cell_type": "code",
      "metadata": {
        "id": "IYJPK16KIkcH",
        "outputId": "396e3f2c-3677-4eee-c529-68c62203bcce",
        "colab": {
          "base_uri": "https://localhost:8080/",
          "height": 281
        }
      },
      "source": [
        "#Plot the regression line for training data:\n",
        "\n",
        "plt.scatter(train[\"ENGINESIZE\"],train[\"CO2EMISSIONS\"])\n",
        "plt.plot(train[\"ENGINESIZE\"],predicted_train,color=\"red\")\n",
        "plt.xlabel(\"Engine_Size\")\n",
        "plt.ylabel(\"Emission\")\n",
        "plt.show()"
      ],
      "execution_count": null,
      "outputs": [
        {
          "output_type": "display_data",
          "data": {
            "image/png": "[encoded data removed]",
            "text/plain": [
              "<Figure size 432x288 with 1 Axes>"
            ]
          },
          "metadata": {
            "tags": [],
            "needs_background": "light"
          }
        }
      ]
    },
    {
      "cell_type": "code",
      "metadata": {
        "id": "D0NLyyXdIlyT",
        "outputId": "6cf6187e-bc37-4600-a4d9-0aa66debd83e",
        "colab": {
          "base_uri": "https://localhost:8080/",
          "height": 280
        }
      },
      "source": [
        "#Plot the regression line for testing data:\n",
        "\n",
        "plt.scatter(test[\"ENGINESIZE\"],test[\"CO2EMISSIONS\"])\n",
        "plt.plot(test[\"ENGINESIZE\"],predicted_test,color=\"red\")\n",
        "plt.xlabel(\"Engine_Size\")\n",
        "plt.ylabel(\"Emission\")\n",
        "plt.show()"
      ],
      "execution_count": null,
      "outputs": [
        {
          "output_type": "display_data",
          "data": {
            "image/png": "[encoded data removed]",
            "text/plain": [
              "<Figure size 432x288 with 1 Axes>"
            ]
          },
          "metadata": {
            "tags": [],
            "needs_background": "light"
          }
        }
      ]
    },
    {
      "cell_type": "code",
      "metadata": {
        "id": "NaA_uYoCImpI",
        "outputId": "f195d8c1-18b4-4196-d5b6-46ae852b3843",
        "colab": {
          "base_uri": "https://localhost:8080/",
          "height": 281
        }
      },
      "source": [
        "#Plot the regression line for complete data:\n",
        "\n",
        "plt.scatter(data[\"ENGINESIZE\"],data[\"CO2EMISSIONS\"])\n",
        "plt.plot(data[\"ENGINESIZE\"],predicted_data,color=\"red\")\n",
        "plt.xlabel(\"Engine_Size\")\n",
        "plt.ylabel(\"Emission\")\n",
        "plt.show()"
      ],
      "execution_count": null,
      "outputs": [
        {
          "output_type": "display_data",
          "data": {
            "image/png": "[encoded data removed]",
            "text/plain": [
              "<Figure size 432x288 with 1 Axes>"
            ]
          },
          "metadata": {
            "tags": [],
            "needs_background": "light"
          }
        }
      ]
    },
    {
      "cell_type": "code",
      "metadata": {
        "id": "2T9zTmSyIo27",
        "outputId": "28f6e880-caa1-4aa0-f3f6-026b86219e4b",
        "colab": {
          "base_uri": "https://localhost:8080/",
          "height": 121
        }
      },
      "source": [
        "#Create a dataframe for Actual and Predicted values:\n",
        "\n",
        "A_P_data = pd.DataFrame({\"Actual\":data[\"CO2EMISSIONS\"],\"Predicted\":predicted_data[:][0][0]})\n",
        "print(A_P_data.head())"
      ],
      "execution_count": null,
      "outputs": [
        {
          "output_type": "stream",
          "text": [
            "   Actual   Predicted\n",
            "0     196  204.760147\n",
            "1     221  204.760147\n",
            "2     136  204.760147\n",
            "3     255  204.760147\n",
            "4     244  204.760147\n"
          ],
          "name": "stdout"
        }
      ]
    },
    {
      "cell_type": "code",
      "metadata": {
        "id": "3_s-Gp5XIq5D",
        "outputId": "e1a1b3ad-94c9-4ae9-e445-c94e45c86aac",
        "colab": {
          "base_uri": "https://localhost:8080/",
          "height": 370
        }
      },
      "source": [
        "#Plot the bar graph for actual and predicted values:\n",
        "\n",
        "A_P_data.head(10).plot(kind='bar',figsize=(12,6))\n",
        "plt.show()"
      ],
      "execution_count": null,
      "outputs": [
        {
          "output_type": "display_data",
          "data": {
            "image/png": "[encoded data removed]",
            "text/plain": [
              "<Figure size 864x432 with 1 Axes>"
            ]
          },
          "metadata": {
            "tags": [],
            "needs_background": "light"
          }
        }
      ]
    },
    {
      "cell_type": "code",
      "metadata": {
        "id": "wThai4e-ItEs",
        "outputId": "c38bfb41-c161-4d21-85b6-270e1c50a3d6",
        "colab": {
          "base_uri": "https://localhost:8080/",
          "height": 35
        }
      },
      "source": [
        "#Error calculations:\n",
        "\n",
        "test_x = np.array(test[['ENGINESIZE']])\n",
        "test_y = np.array(test[['CO2EMISSIONS']])\n",
        "\n",
        "predicted_y= regr.predict(test_x)\n",
        "\n",
        "res = (predicted_y - test_y)\n",
        "RSS = (res*res).sum()\n",
        "\n",
        "print(\"Residual Sum of Squares: \",RSS)"
      ],
      "execution_count": null,
      "outputs": [
        {
          "output_type": "stream",
          "text": [
            "Residual Sum of Squares:  159741.10295932178\n"
          ],
          "name": "stdout"
        }
      ]
    }
  ]
}